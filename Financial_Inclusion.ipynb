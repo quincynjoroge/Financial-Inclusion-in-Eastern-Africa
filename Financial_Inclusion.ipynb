{
  "nbformat": 4,
  "nbformat_minor": 0,
  "metadata": {
    "colab": {
      "name": "Financial_Inclusion.ipynb",
      "provenance": [],
      "collapsed_sections": [],
      "toc_visible": true
    },
    "kernelspec": {
      "name": "python3",
      "display_name": "Python 3"
    },
    "language_info": {
      "name": "python"
    }
  },
  "cells": [
    {
      "cell_type": "markdown",
      "metadata": {
        "id": "vjdwSdaN4JrD"
      },
      "source": [
        "# **1.1 FINANCIAL INCLUSION IN KENYA, RWANDA, TANZANIA & UGANDA**"
      ]
    },
    {
      "cell_type": "markdown",
      "metadata": {
        "id": "mQ79-9czAA0E"
      },
      "source": [
        "### **Research question**\n",
        "What are the demographic factors that influence whether or not a person has or uses a bank account?\n",
        "\n",
        "We examine the factors that are significant, either negatively or positively, in order to determine their relationship with the dependent variable (has a bank account or not).\n",
        "\n",
        "### **Defining the metric for success**\n",
        "*   Determine the factors that determine Financial inclusion in the countries: Kenya, Uganda, Rwanda, Tanzania.\n",
        "*   Prediction of individuals most likely to have or use a bank account or not.\n",
        "\n",
        "### **Understanding the context**\n",
        "Financial inclusion remains one of the major impediments to Africa's economic and human growth. Despite the rise of innovative fintech solutions and the expansion of mobile money in Africa, banks continue to play a critical role in facilitating access to financial services. Bank accounts allow households to save and make payments more easily, while also assisting businesses in improving their creditworthiness and gaining access to additional financial services.\n",
        "As a result, having access to a bank account is critical for long-term economic growth.\n",
        "### **Recording the Experimental Design**\n",
        "•\tLoading dataset\n",
        "\n",
        "•\tChecking the dataset's shape, top, bottom, datatypes\n",
        "\n",
        "•\tExternal data source validation\n",
        "\n",
        "•\tData Cleaning\n",
        "\n",
        "•\tRenaming column names & ensuring consistency in column names\n",
        "\n",
        "•\tDropping unnecessary columns\n",
        "\n",
        "•\tHandling null values, duplicated records, outliers, anomalies\n",
        "\n",
        "•\tExploratory Data Analysis\n",
        "\n",
        "•\tUnivariate EDA\n",
        "\n",
        "•\tBivariate EDA\n",
        "\n",
        "•\tMultivariate EDA\n",
        "\n",
        "\n",
        "### **Data Relevance**\n",
        "The available data is relevant because it contains all of the variables needed to perform analysis by country and by demographic factors such as age, gender, level of education,location, employment, and relationship status, among other things that influence an individual's financial outcomes.\n",
        "\n",
        "\n",
        "\n",
        "\n",
        "\n"
      ]
    },
    {
      "cell_type": "markdown",
      "metadata": {
        "id": "qbyOyDzru8SB"
      },
      "source": [
        "# **1.2 Importing Libraries for our Exploratory Data Analysis**"
      ]
    },
    {
      "cell_type": "code",
      "metadata": {
        "id": "wlgNqki-vH3B"
      },
      "source": [
        "# Importing Libraries that will be used in our Exploratory Data Analysis\n",
        "import pandas as pd\n",
        "import numpy as np\n",
        "import matplotlib.pyplot as plt\n",
        "import seaborn as sns"
      ],
      "execution_count": 1,
      "outputs": []
    },
    {
      "cell_type": "markdown",
      "metadata": {
        "id": "impsy8Mrvvb5"
      },
      "source": [
        "# **1.3 Reading the data**"
      ]
    },
    {
      "cell_type": "code",
      "metadata": {
        "id": "-diYbgKav6oZ"
      },
      "source": [
        "# Loading the Dataset from the source i.e. csv\n",
        "# Loading the Dataset that describes the dataset.\n",
        "\n",
        "variable_df =  pd.read_csv('/content/VariableDefinitions.csv')"
      ],
      "execution_count": 2,
      "outputs": []
    },
    {
      "cell_type": "code",
      "metadata": {
        "id": "LvxlBoqRyQhg"
      },
      "source": [
        "# Loading the Financial Dataset \n",
        "\n",
        "finance_df = pd.read_csv('/content/Financial Dataset - 1.csv')"
      ],
      "execution_count": 3,
      "outputs": []
    },
    {
      "cell_type": "markdown",
      "metadata": {
        "id": "yBEG5qTtyo2r"
      },
      "source": [
        "# **1.4 Checking the Data**"
      ]
    },
    {
      "cell_type": "markdown",
      "metadata": {
        "id": "kcEn5llxFlWS"
      },
      "source": [
        "### 1.4.1 Previewing the variable definitions dataset"
      ]
    },
    {
      "cell_type": "code",
      "metadata": {
        "colab": {
          "base_uri": "https://localhost:8080/",
          "height": 425
        },
        "id": "DT86eZEQzjky",
        "outputId": "a189eac0-cf05-4db5-f2f8-ef1df5f94044"
      },
      "source": [
        "# Previewing the Variable dataset\n",
        "variable_df"
      ],
      "execution_count": 4,
      "outputs": [
        {
          "output_type": "execute_result",
          "data": {
            "text/html": [
              "<div>\n",
              "<style scoped>\n",
              "    .dataframe tbody tr th:only-of-type {\n",
              "        vertical-align: middle;\n",
              "    }\n",
              "\n",
              "    .dataframe tbody tr th {\n",
              "        vertical-align: top;\n",
              "    }\n",
              "\n",
              "    .dataframe thead th {\n",
              "        text-align: right;\n",
              "    }\n",
              "</style>\n",
              "<table border=\"1\" class=\"dataframe\">\n",
              "  <thead>\n",
              "    <tr style=\"text-align: right;\">\n",
              "      <th></th>\n",
              "      <th>Variable Definitions</th>\n",
              "      <th>Unnamed: 1</th>\n",
              "    </tr>\n",
              "  </thead>\n",
              "  <tbody>\n",
              "    <tr>\n",
              "      <th>0</th>\n",
              "      <td>country</td>\n",
              "      <td>Country interviewee is in.</td>\n",
              "    </tr>\n",
              "    <tr>\n",
              "      <th>1</th>\n",
              "      <td>year</td>\n",
              "      <td>Year survey was done in.</td>\n",
              "    </tr>\n",
              "    <tr>\n",
              "      <th>2</th>\n",
              "      <td>uniqueid</td>\n",
              "      <td>Unique identifier for each interviewee</td>\n",
              "    </tr>\n",
              "    <tr>\n",
              "      <th>3</th>\n",
              "      <td>location_type</td>\n",
              "      <td>Type of location: Rural, Urban</td>\n",
              "    </tr>\n",
              "    <tr>\n",
              "      <th>4</th>\n",
              "      <td>cellphone_access</td>\n",
              "      <td>If interviewee has access to a cellphone: Yes, No</td>\n",
              "    </tr>\n",
              "    <tr>\n",
              "      <th>5</th>\n",
              "      <td>household_size</td>\n",
              "      <td>Number of people living in one house</td>\n",
              "    </tr>\n",
              "    <tr>\n",
              "      <th>6</th>\n",
              "      <td>age_of_respondent</td>\n",
              "      <td>The age of the interviewee</td>\n",
              "    </tr>\n",
              "    <tr>\n",
              "      <th>7</th>\n",
              "      <td>gender_of_respondent</td>\n",
              "      <td>Gender of interviewee: Male, Female</td>\n",
              "    </tr>\n",
              "    <tr>\n",
              "      <th>8</th>\n",
              "      <td>relationship_with_head</td>\n",
              "      <td>The interviewee’s relationship with the head o...</td>\n",
              "    </tr>\n",
              "    <tr>\n",
              "      <th>9</th>\n",
              "      <td>marital_status</td>\n",
              "      <td>The martial status of the interviewee: Married...</td>\n",
              "    </tr>\n",
              "    <tr>\n",
              "      <th>10</th>\n",
              "      <td>education_level</td>\n",
              "      <td>Highest level of education: No formal educatio...</td>\n",
              "    </tr>\n",
              "    <tr>\n",
              "      <th>11</th>\n",
              "      <td>job_type</td>\n",
              "      <td>Type of job interviewee has: Farming and Fishi...</td>\n",
              "    </tr>\n",
              "  </tbody>\n",
              "</table>\n",
              "</div>"
            ],
            "text/plain": [
              "      Variable Definitions                                         Unnamed: 1\n",
              "0                  country                         Country interviewee is in.\n",
              "1                     year                           Year survey was done in.\n",
              "2                 uniqueid             Unique identifier for each interviewee\n",
              "3            location_type                     Type of location: Rural, Urban\n",
              "4         cellphone_access  If interviewee has access to a cellphone: Yes, No\n",
              "5           household_size               Number of people living in one house\n",
              "6        age_of_respondent                         The age of the interviewee\n",
              "7     gender_of_respondent                Gender of interviewee: Male, Female\n",
              "8   relationship_with_head  The interviewee’s relationship with the head o...\n",
              "9           marital_status  The martial status of the interviewee: Married...\n",
              "10         education_level  Highest level of education: No formal educatio...\n",
              "11                job_type  Type of job interviewee has: Farming and Fishi..."
            ]
          },
          "metadata": {
            "tags": []
          },
          "execution_count": 4
        }
      ]
    },
    {
      "cell_type": "markdown",
      "metadata": {
        "id": "3iZ0wV8MFvly"
      },
      "source": [
        "### 1.4.2 Previewing the Financial dataset"
      ]
    },
    {
      "cell_type": "code",
      "metadata": {
        "colab": {
          "base_uri": "https://localhost:8080/"
        },
        "id": "XDQP8FHtyxNp",
        "outputId": "7fd9d8e9-eaa9-419e-bd1c-48af6b70429d"
      },
      "source": [
        "# Determining the no. of records in our Financial dataset\n",
        "finance_df.shape"
      ],
      "execution_count": 5,
      "outputs": [
        {
          "output_type": "execute_result",
          "data": {
            "text/plain": [
              "(23524, 13)"
            ]
          },
          "metadata": {
            "tags": []
          },
          "execution_count": 5
        }
      ]
    },
    {
      "cell_type": "markdown",
      "metadata": {
        "id": "5V6Pue8n0KsR"
      },
      "source": [
        "Our dataset has 23524 rows and 13 columns\n"
      ]
    },
    {
      "cell_type": "code",
      "metadata": {
        "colab": {
          "base_uri": "https://localhost:8080/",
          "height": 381
        },
        "id": "ZXx1zC0u0TfE",
        "outputId": "f62b653a-32f3-408d-ded8-26b8853a0161"
      },
      "source": [
        "# Previewing the top of our dataset\n",
        "\n",
        "finance_df.head()"
      ],
      "execution_count": 6,
      "outputs": [
        {
          "output_type": "execute_result",
          "data": {
            "text/html": [
              "<div>\n",
              "<style scoped>\n",
              "    .dataframe tbody tr th:only-of-type {\n",
              "        vertical-align: middle;\n",
              "    }\n",
              "\n",
              "    .dataframe tbody tr th {\n",
              "        vertical-align: top;\n",
              "    }\n",
              "\n",
              "    .dataframe thead th {\n",
              "        text-align: right;\n",
              "    }\n",
              "</style>\n",
              "<table border=\"1\" class=\"dataframe\">\n",
              "  <thead>\n",
              "    <tr style=\"text-align: right;\">\n",
              "      <th></th>\n",
              "      <th>country</th>\n",
              "      <th>year</th>\n",
              "      <th>uniqueid</th>\n",
              "      <th>Has a Bank account</th>\n",
              "      <th>Type of Location</th>\n",
              "      <th>Cell Phone Access</th>\n",
              "      <th>household_size</th>\n",
              "      <th>Respondent Age</th>\n",
              "      <th>gender_of_respondent</th>\n",
              "      <th>The relathip with head</th>\n",
              "      <th>marital_status</th>\n",
              "      <th>Level of Educuation</th>\n",
              "      <th>Type of Job</th>\n",
              "    </tr>\n",
              "  </thead>\n",
              "  <tbody>\n",
              "    <tr>\n",
              "      <th>0</th>\n",
              "      <td>Kenya</td>\n",
              "      <td>2018</td>\n",
              "      <td>uniqueid_1</td>\n",
              "      <td>Yes</td>\n",
              "      <td>Rural</td>\n",
              "      <td>Yes</td>\n",
              "      <td>3.0</td>\n",
              "      <td>24.0</td>\n",
              "      <td>Female</td>\n",
              "      <td>Spouse</td>\n",
              "      <td>Married/Living together</td>\n",
              "      <td>Secondary education</td>\n",
              "      <td>Self employed</td>\n",
              "    </tr>\n",
              "    <tr>\n",
              "      <th>1</th>\n",
              "      <td>Kenya</td>\n",
              "      <td>2018</td>\n",
              "      <td>uniqueid_2</td>\n",
              "      <td>No</td>\n",
              "      <td>Rural</td>\n",
              "      <td>No</td>\n",
              "      <td>5.0</td>\n",
              "      <td>70.0</td>\n",
              "      <td>Female</td>\n",
              "      <td>Head of Household</td>\n",
              "      <td>Widowed</td>\n",
              "      <td>No formal education</td>\n",
              "      <td>Government Dependent</td>\n",
              "    </tr>\n",
              "    <tr>\n",
              "      <th>2</th>\n",
              "      <td>Kenya</td>\n",
              "      <td>2018</td>\n",
              "      <td>uniqueid_3</td>\n",
              "      <td>Yes</td>\n",
              "      <td>Urban</td>\n",
              "      <td>Yes</td>\n",
              "      <td>5.0</td>\n",
              "      <td>26.0</td>\n",
              "      <td>Male</td>\n",
              "      <td>Other relative</td>\n",
              "      <td>Single/Never Married</td>\n",
              "      <td>Vocational/Specialised training</td>\n",
              "      <td>Self employed</td>\n",
              "    </tr>\n",
              "    <tr>\n",
              "      <th>3</th>\n",
              "      <td>Kenya</td>\n",
              "      <td>2018</td>\n",
              "      <td>uniqueid_4</td>\n",
              "      <td>No</td>\n",
              "      <td>Rural</td>\n",
              "      <td>Yes</td>\n",
              "      <td>5.0</td>\n",
              "      <td>34.0</td>\n",
              "      <td>Female</td>\n",
              "      <td>Head of Household</td>\n",
              "      <td>Married/Living together</td>\n",
              "      <td>Primary education</td>\n",
              "      <td>Formally employed Private</td>\n",
              "    </tr>\n",
              "    <tr>\n",
              "      <th>4</th>\n",
              "      <td>Kenya</td>\n",
              "      <td>2018</td>\n",
              "      <td>uniqueid_5</td>\n",
              "      <td>No</td>\n",
              "      <td>Urban</td>\n",
              "      <td>No</td>\n",
              "      <td>8.0</td>\n",
              "      <td>26.0</td>\n",
              "      <td>Male</td>\n",
              "      <td>Child</td>\n",
              "      <td>Single/Never Married</td>\n",
              "      <td>Primary education</td>\n",
              "      <td>Informally employed</td>\n",
              "    </tr>\n",
              "  </tbody>\n",
              "</table>\n",
              "</div>"
            ],
            "text/plain": [
              "  country  year  ...              Level of Educuation                Type of Job\n",
              "0   Kenya  2018  ...              Secondary education              Self employed\n",
              "1   Kenya  2018  ...              No formal education       Government Dependent\n",
              "2   Kenya  2018  ...  Vocational/Specialised training              Self employed\n",
              "3   Kenya  2018  ...                Primary education  Formally employed Private\n",
              "4   Kenya  2018  ...                Primary education        Informally employed\n",
              "\n",
              "[5 rows x 13 columns]"
            ]
          },
          "metadata": {
            "tags": []
          },
          "execution_count": 6
        }
      ]
    },
    {
      "cell_type": "code",
      "metadata": {
        "colab": {
          "base_uri": "https://localhost:8080/",
          "height": 364
        },
        "id": "4eIlYEYw0v6h",
        "outputId": "046e6abb-bff7-4787-fec5-bfff80981a7a"
      },
      "source": [
        "# Previewing the bottom of our dataset\n",
        "\n",
        "finance_df.tail()"
      ],
      "execution_count": 7,
      "outputs": [
        {
          "output_type": "execute_result",
          "data": {
            "text/html": [
              "<div>\n",
              "<style scoped>\n",
              "    .dataframe tbody tr th:only-of-type {\n",
              "        vertical-align: middle;\n",
              "    }\n",
              "\n",
              "    .dataframe tbody tr th {\n",
              "        vertical-align: top;\n",
              "    }\n",
              "\n",
              "    .dataframe thead th {\n",
              "        text-align: right;\n",
              "    }\n",
              "</style>\n",
              "<table border=\"1\" class=\"dataframe\">\n",
              "  <thead>\n",
              "    <tr style=\"text-align: right;\">\n",
              "      <th></th>\n",
              "      <th>country</th>\n",
              "      <th>year</th>\n",
              "      <th>uniqueid</th>\n",
              "      <th>Has a Bank account</th>\n",
              "      <th>Type of Location</th>\n",
              "      <th>Cell Phone Access</th>\n",
              "      <th>household_size</th>\n",
              "      <th>Respondent Age</th>\n",
              "      <th>gender_of_respondent</th>\n",
              "      <th>The relathip with head</th>\n",
              "      <th>marital_status</th>\n",
              "      <th>Level of Educuation</th>\n",
              "      <th>Type of Job</th>\n",
              "    </tr>\n",
              "  </thead>\n",
              "  <tbody>\n",
              "    <tr>\n",
              "      <th>23519</th>\n",
              "      <td>Uganda</td>\n",
              "      <td>2018</td>\n",
              "      <td>uniqueid_2113</td>\n",
              "      <td>No</td>\n",
              "      <td>Rural</td>\n",
              "      <td>Yes</td>\n",
              "      <td>4.0</td>\n",
              "      <td>48.0</td>\n",
              "      <td>Female</td>\n",
              "      <td>Head of Household</td>\n",
              "      <td>Divorced/Seperated</td>\n",
              "      <td>No formal education</td>\n",
              "      <td>Other Income</td>\n",
              "    </tr>\n",
              "    <tr>\n",
              "      <th>23520</th>\n",
              "      <td>Uganda</td>\n",
              "      <td>2018</td>\n",
              "      <td>uniqueid_2114</td>\n",
              "      <td>No</td>\n",
              "      <td>Rural</td>\n",
              "      <td>Yes</td>\n",
              "      <td>2.0</td>\n",
              "      <td>27.0</td>\n",
              "      <td>Female</td>\n",
              "      <td>Head of Household</td>\n",
              "      <td>Single/Never Married</td>\n",
              "      <td>Secondary education</td>\n",
              "      <td>Other Income</td>\n",
              "    </tr>\n",
              "    <tr>\n",
              "      <th>23521</th>\n",
              "      <td>Uganda</td>\n",
              "      <td>2018</td>\n",
              "      <td>uniqueid_2115</td>\n",
              "      <td>No</td>\n",
              "      <td>Rural</td>\n",
              "      <td>Yes</td>\n",
              "      <td>5.0</td>\n",
              "      <td>27.0</td>\n",
              "      <td>Female</td>\n",
              "      <td>Parent</td>\n",
              "      <td>Widowed</td>\n",
              "      <td>Primary education</td>\n",
              "      <td>Other Income</td>\n",
              "    </tr>\n",
              "    <tr>\n",
              "      <th>23522</th>\n",
              "      <td>Uganda</td>\n",
              "      <td>2018</td>\n",
              "      <td>uniqueid_2116</td>\n",
              "      <td>No</td>\n",
              "      <td>Urban</td>\n",
              "      <td>Yes</td>\n",
              "      <td>7.0</td>\n",
              "      <td>30.0</td>\n",
              "      <td>Female</td>\n",
              "      <td>Parent</td>\n",
              "      <td>Divorced/Seperated</td>\n",
              "      <td>Secondary education</td>\n",
              "      <td>Self employed</td>\n",
              "    </tr>\n",
              "    <tr>\n",
              "      <th>23523</th>\n",
              "      <td>Uganda</td>\n",
              "      <td>2018</td>\n",
              "      <td>uniqueid_2117</td>\n",
              "      <td>No</td>\n",
              "      <td>Rural</td>\n",
              "      <td>Yes</td>\n",
              "      <td>10.0</td>\n",
              "      <td>20.0</td>\n",
              "      <td>Male</td>\n",
              "      <td>Child</td>\n",
              "      <td>Single/Never Married</td>\n",
              "      <td>Secondary education</td>\n",
              "      <td>No Income</td>\n",
              "    </tr>\n",
              "  </tbody>\n",
              "</table>\n",
              "</div>"
            ],
            "text/plain": [
              "      country  year  ...  Level of Educuation    Type of Job\n",
              "23519  Uganda  2018  ...  No formal education   Other Income\n",
              "23520  Uganda  2018  ...  Secondary education   Other Income\n",
              "23521  Uganda  2018  ...    Primary education   Other Income\n",
              "23522  Uganda  2018  ...  Secondary education  Self employed\n",
              "23523  Uganda  2018  ...  Secondary education      No Income\n",
              "\n",
              "[5 rows x 13 columns]"
            ]
          },
          "metadata": {
            "tags": []
          },
          "execution_count": 7
        }
      ]
    },
    {
      "cell_type": "code",
      "metadata": {
        "colab": {
          "base_uri": "https://localhost:8080/"
        },
        "id": "0NmJ9M3I05gi",
        "outputId": "12cbd299-28f2-49b3-94da-9dc704f4c4f5"
      },
      "source": [
        "# Checking whether each column has an appropriate datatype\n",
        "\n",
        "finance_df.dtypes"
      ],
      "execution_count": 8,
      "outputs": [
        {
          "output_type": "execute_result",
          "data": {
            "text/plain": [
              "country                    object\n",
              "year                        int64\n",
              "uniqueid                   object\n",
              "Has a Bank account         object\n",
              "Type of Location           object\n",
              "Cell Phone Access          object\n",
              "household_size            float64\n",
              "Respondent Age            float64\n",
              "gender_of_respondent       object\n",
              "The relathip with head     object\n",
              "marital_status             object\n",
              "Level of Educuation        object\n",
              "Type of Job                object\n",
              "dtype: object"
            ]
          },
          "metadata": {
            "tags": []
          },
          "execution_count": 8
        }
      ]
    },
    {
      "cell_type": "markdown",
      "metadata": {
        "id": "k7RgvMi02diZ"
      },
      "source": [
        "# **1.5 External Data Validation**"
      ]
    },
    {
      "cell_type": "markdown",
      "metadata": {
        "id": "F31GT-9r2k8g"
      },
      "source": [
        "The data available for analysis can be validated with the following [data](https://www.kaggle.com/c/datasciencenigeria/data) from Kaggle.\n",
        "\n",
        "This data was compiled to analyse and predict the performances of Nigeria student academic performance based on the demographic information available.\n",
        "\n",
        "Some of the demographic factors that were compiled for analysis include: student's gender, parents'level of education,area of residence, student's age.\n",
        "\n",
        "All these are very similar to what we have in our data so we can move on with analysis since we have the right data to answer our question."
      ]
    },
    {
      "cell_type": "markdown",
      "metadata": {
        "id": "8tOY3dWL3zCN"
      },
      "source": [
        "# **1.6 Tidying the dataset**"
      ]
    },
    {
      "cell_type": "markdown",
      "metadata": {
        "id": "ERN6dDAGDIgc"
      },
      "source": [
        "### 1.6.1 Renaming columns"
      ]
    },
    {
      "cell_type": "markdown",
      "metadata": {
        "id": "O2pdBX8fAT2T"
      },
      "source": [
        "Using the same pattern for column names, i.e. using lower case and '_' to make a single word for two-word columns."
      ]
    },
    {
      "cell_type": "code",
      "metadata": {
        "id": "LiqUdPr34lNs"
      },
      "source": [
        "# Using the same format for all column names by:\n",
        "# Renaming the columns to combine the names of the columns into a single word and lowering the case\n",
        "\n",
        "finance_df.columns = finance_df.columns.str.lower().str.replace(' ', '_')"
      ],
      "execution_count": 9,
      "outputs": []
    },
    {
      "cell_type": "code",
      "metadata": {
        "colab": {
          "base_uri": "https://localhost:8080/",
          "height": 329
        },
        "id": "52JRIWlZ7PDY",
        "outputId": "abc06567-599d-47f2-bc60-74dbad91c54d"
      },
      "source": [
        "# Renaming columns \n",
        "finance_df.rename(columns={'the_relathip_with_head': 'relationship_with_head', 'level_of_educuation':'level_of_education'}, inplace = True)\n",
        "\n",
        "finance_df.head()"
      ],
      "execution_count": 10,
      "outputs": [
        {
          "output_type": "execute_result",
          "data": {
            "text/html": [
              "<div>\n",
              "<style scoped>\n",
              "    .dataframe tbody tr th:only-of-type {\n",
              "        vertical-align: middle;\n",
              "    }\n",
              "\n",
              "    .dataframe tbody tr th {\n",
              "        vertical-align: top;\n",
              "    }\n",
              "\n",
              "    .dataframe thead th {\n",
              "        text-align: right;\n",
              "    }\n",
              "</style>\n",
              "<table border=\"1\" class=\"dataframe\">\n",
              "  <thead>\n",
              "    <tr style=\"text-align: right;\">\n",
              "      <th></th>\n",
              "      <th>country</th>\n",
              "      <th>year</th>\n",
              "      <th>uniqueid</th>\n",
              "      <th>has_a_bank_account</th>\n",
              "      <th>type_of_location</th>\n",
              "      <th>cell_phone_access</th>\n",
              "      <th>household_size</th>\n",
              "      <th>respondent_age</th>\n",
              "      <th>gender_of_respondent</th>\n",
              "      <th>relationship_with_head</th>\n",
              "      <th>marital_status</th>\n",
              "      <th>level_of_education</th>\n",
              "      <th>type_of_job</th>\n",
              "    </tr>\n",
              "  </thead>\n",
              "  <tbody>\n",
              "    <tr>\n",
              "      <th>0</th>\n",
              "      <td>Kenya</td>\n",
              "      <td>2018</td>\n",
              "      <td>uniqueid_1</td>\n",
              "      <td>Yes</td>\n",
              "      <td>Rural</td>\n",
              "      <td>Yes</td>\n",
              "      <td>3.0</td>\n",
              "      <td>24.0</td>\n",
              "      <td>Female</td>\n",
              "      <td>Spouse</td>\n",
              "      <td>Married/Living together</td>\n",
              "      <td>Secondary education</td>\n",
              "      <td>Self employed</td>\n",
              "    </tr>\n",
              "    <tr>\n",
              "      <th>1</th>\n",
              "      <td>Kenya</td>\n",
              "      <td>2018</td>\n",
              "      <td>uniqueid_2</td>\n",
              "      <td>No</td>\n",
              "      <td>Rural</td>\n",
              "      <td>No</td>\n",
              "      <td>5.0</td>\n",
              "      <td>70.0</td>\n",
              "      <td>Female</td>\n",
              "      <td>Head of Household</td>\n",
              "      <td>Widowed</td>\n",
              "      <td>No formal education</td>\n",
              "      <td>Government Dependent</td>\n",
              "    </tr>\n",
              "    <tr>\n",
              "      <th>2</th>\n",
              "      <td>Kenya</td>\n",
              "      <td>2018</td>\n",
              "      <td>uniqueid_3</td>\n",
              "      <td>Yes</td>\n",
              "      <td>Urban</td>\n",
              "      <td>Yes</td>\n",
              "      <td>5.0</td>\n",
              "      <td>26.0</td>\n",
              "      <td>Male</td>\n",
              "      <td>Other relative</td>\n",
              "      <td>Single/Never Married</td>\n",
              "      <td>Vocational/Specialised training</td>\n",
              "      <td>Self employed</td>\n",
              "    </tr>\n",
              "    <tr>\n",
              "      <th>3</th>\n",
              "      <td>Kenya</td>\n",
              "      <td>2018</td>\n",
              "      <td>uniqueid_4</td>\n",
              "      <td>No</td>\n",
              "      <td>Rural</td>\n",
              "      <td>Yes</td>\n",
              "      <td>5.0</td>\n",
              "      <td>34.0</td>\n",
              "      <td>Female</td>\n",
              "      <td>Head of Household</td>\n",
              "      <td>Married/Living together</td>\n",
              "      <td>Primary education</td>\n",
              "      <td>Formally employed Private</td>\n",
              "    </tr>\n",
              "    <tr>\n",
              "      <th>4</th>\n",
              "      <td>Kenya</td>\n",
              "      <td>2018</td>\n",
              "      <td>uniqueid_5</td>\n",
              "      <td>No</td>\n",
              "      <td>Urban</td>\n",
              "      <td>No</td>\n",
              "      <td>8.0</td>\n",
              "      <td>26.0</td>\n",
              "      <td>Male</td>\n",
              "      <td>Child</td>\n",
              "      <td>Single/Never Married</td>\n",
              "      <td>Primary education</td>\n",
              "      <td>Informally employed</td>\n",
              "    </tr>\n",
              "  </tbody>\n",
              "</table>\n",
              "</div>"
            ],
            "text/plain": [
              "  country  year  ...               level_of_education                type_of_job\n",
              "0   Kenya  2018  ...              Secondary education              Self employed\n",
              "1   Kenya  2018  ...              No formal education       Government Dependent\n",
              "2   Kenya  2018  ...  Vocational/Specialised training              Self employed\n",
              "3   Kenya  2018  ...                Primary education  Formally employed Private\n",
              "4   Kenya  2018  ...                Primary education        Informally employed\n",
              "\n",
              "[5 rows x 13 columns]"
            ]
          },
          "metadata": {
            "tags": []
          },
          "execution_count": 10
        }
      ]
    },
    {
      "cell_type": "code",
      "metadata": {
        "id": "aRHu1c4hkEg9"
      },
      "source": [
        "# Replacing column values  for the level of education column\n",
        "\n",
        "finance_df[\"level_of_education\"].replace({'Secondary education': 'Secondary', 'Primary education': \"Primary\",'Tertiary education':'Tertiary','Other/Dont know/RTA':'Other','Vocational/Specialised training':'Vocational'}, inplace=True)\n"
      ],
      "execution_count": 11,
      "outputs": []
    },
    {
      "cell_type": "markdown",
      "metadata": {
        "id": "0LKSBuoFgezo"
      },
      "source": [
        "### 1.6.2 Identifying uniques values within the dataset for each column."
      ]
    },
    {
      "cell_type": "code",
      "metadata": {
        "colab": {
          "base_uri": "https://localhost:8080/"
        },
        "id": "OXMWlUNGgzi5",
        "outputId": "b2b1f72e-5f68-4d5c-9a1e-0712b9c355a5"
      },
      "source": [
        "# Are there any unique values in each column entry in the dataset?\n",
        "for i in finance_df.columns:\n",
        " print(finance_df[i].unique())\n",
        " print (\"\\n\")"
      ],
      "execution_count": 12,
      "outputs": [
        {
          "output_type": "stream",
          "text": [
            "['Kenya' 'Rwanda' 'Tanzania' nan 'Uganda']\n",
            "\n",
            "\n",
            "[2018 2029 2056 2016 2039 2017]\n",
            "\n",
            "\n",
            "['uniqueid_1' 'uniqueid_2' 'uniqueid_3' ... 'uniqueid_8757'\n",
            " 'uniqueid_8758' 'uniqueid_8759']\n",
            "\n",
            "\n",
            "['Yes' 'No' nan]\n",
            "\n",
            "\n",
            "['Rural' 'Urban' nan]\n",
            "\n",
            "\n",
            "['Yes' 'No' nan]\n",
            "\n",
            "\n",
            "[ 3.  5.  8.  7.  1.  6.  4. 10.  2. 11.  9. 12. 16. 15. 13. 14. 21. nan\n",
            "  0. 18. 17. 20.]\n",
            "\n",
            "\n",
            "[ 24.  70.  26.  34.  32.  42.  54.  76.  40.  69.  64.  31.  38.  47.\n",
            "  27.  48.  25.  21.  18.  22.  58.  55.  62.  29.  35.  45.  67.  19.\n",
            "  80.  66.  50.  33.  28.  51.  16.  17.  30.  37.  59.  65.  46.  56.\n",
            "  52.  23.  43.  49.  44.  72.  53.  63.  39.  81.  78.  36.  20.  60.\n",
            "  95.  71.  57.  85.  68.  41.  61.  75.  86.  73.  nan  93.  74.  88.\n",
            "  90.  77.  84.  82.  89.  79.  83.  94.  87.  92.  91.  98.  97.  96.\n",
            "  99. 100.]\n",
            "\n",
            "\n",
            "['Female' 'Male' nan]\n",
            "\n",
            "\n",
            "['Spouse' 'Head of Household' 'Other relative' 'Child' 'Parent'\n",
            " 'Other non-relatives' nan]\n",
            "\n",
            "\n",
            "['Married/Living together' 'Widowed' 'Single/Never Married'\n",
            " 'Divorced/Seperated' 'Dont know' nan]\n",
            "\n",
            "\n",
            "['Secondary' 'No formal education' 'Vocational' 'Primary' 'Tertiary'\n",
            " 'Other' '6' nan]\n",
            "\n",
            "\n",
            "['Self employed' 'Government Dependent' 'Formally employed Private'\n",
            " 'Informally employed' 'Formally employed Government'\n",
            " 'Farming and Fishing' 'Remittance Dependent' 'Other Income'\n",
            " 'Dont Know/Refuse to answer' nan 'No Income']\n",
            "\n",
            "\n"
          ],
          "name": "stdout"
        }
      ]
    },
    {
      "cell_type": "markdown",
      "metadata": {
        "id": "wZpv_0UWDSVD"
      },
      "source": [
        "### 1.6.3 Dropping Irrelevant Fields"
      ]
    },
    {
      "cell_type": "markdown",
      "metadata": {
        "id": "8jHjBrGO-ODo"
      },
      "source": [
        "Dropping the fields unique id and year because they are irrelevant to our analysis.\n"
      ]
    },
    {
      "cell_type": "code",
      "metadata": {
        "colab": {
          "base_uri": "https://localhost:8080/",
          "height": 329
        },
        "id": "V6IOLgll9jCx",
        "outputId": "36fb0f01-25f3-42c0-8edb-d82bc5dc56b5"
      },
      "source": [
        "# Dropping irrelevant fields\n",
        "finance_df.drop(columns =['year', 'uniqueid'],inplace = True)\n",
        "finance_df.head()"
      ],
      "execution_count": 13,
      "outputs": [
        {
          "output_type": "execute_result",
          "data": {
            "text/html": [
              "<div>\n",
              "<style scoped>\n",
              "    .dataframe tbody tr th:only-of-type {\n",
              "        vertical-align: middle;\n",
              "    }\n",
              "\n",
              "    .dataframe tbody tr th {\n",
              "        vertical-align: top;\n",
              "    }\n",
              "\n",
              "    .dataframe thead th {\n",
              "        text-align: right;\n",
              "    }\n",
              "</style>\n",
              "<table border=\"1\" class=\"dataframe\">\n",
              "  <thead>\n",
              "    <tr style=\"text-align: right;\">\n",
              "      <th></th>\n",
              "      <th>country</th>\n",
              "      <th>has_a_bank_account</th>\n",
              "      <th>type_of_location</th>\n",
              "      <th>cell_phone_access</th>\n",
              "      <th>household_size</th>\n",
              "      <th>respondent_age</th>\n",
              "      <th>gender_of_respondent</th>\n",
              "      <th>relationship_with_head</th>\n",
              "      <th>marital_status</th>\n",
              "      <th>level_of_education</th>\n",
              "      <th>type_of_job</th>\n",
              "    </tr>\n",
              "  </thead>\n",
              "  <tbody>\n",
              "    <tr>\n",
              "      <th>0</th>\n",
              "      <td>Kenya</td>\n",
              "      <td>Yes</td>\n",
              "      <td>Rural</td>\n",
              "      <td>Yes</td>\n",
              "      <td>3.0</td>\n",
              "      <td>24.0</td>\n",
              "      <td>Female</td>\n",
              "      <td>Spouse</td>\n",
              "      <td>Married/Living together</td>\n",
              "      <td>Secondary</td>\n",
              "      <td>Self employed</td>\n",
              "    </tr>\n",
              "    <tr>\n",
              "      <th>1</th>\n",
              "      <td>Kenya</td>\n",
              "      <td>No</td>\n",
              "      <td>Rural</td>\n",
              "      <td>No</td>\n",
              "      <td>5.0</td>\n",
              "      <td>70.0</td>\n",
              "      <td>Female</td>\n",
              "      <td>Head of Household</td>\n",
              "      <td>Widowed</td>\n",
              "      <td>No formal education</td>\n",
              "      <td>Government Dependent</td>\n",
              "    </tr>\n",
              "    <tr>\n",
              "      <th>2</th>\n",
              "      <td>Kenya</td>\n",
              "      <td>Yes</td>\n",
              "      <td>Urban</td>\n",
              "      <td>Yes</td>\n",
              "      <td>5.0</td>\n",
              "      <td>26.0</td>\n",
              "      <td>Male</td>\n",
              "      <td>Other relative</td>\n",
              "      <td>Single/Never Married</td>\n",
              "      <td>Vocational</td>\n",
              "      <td>Self employed</td>\n",
              "    </tr>\n",
              "    <tr>\n",
              "      <th>3</th>\n",
              "      <td>Kenya</td>\n",
              "      <td>No</td>\n",
              "      <td>Rural</td>\n",
              "      <td>Yes</td>\n",
              "      <td>5.0</td>\n",
              "      <td>34.0</td>\n",
              "      <td>Female</td>\n",
              "      <td>Head of Household</td>\n",
              "      <td>Married/Living together</td>\n",
              "      <td>Primary</td>\n",
              "      <td>Formally employed Private</td>\n",
              "    </tr>\n",
              "    <tr>\n",
              "      <th>4</th>\n",
              "      <td>Kenya</td>\n",
              "      <td>No</td>\n",
              "      <td>Urban</td>\n",
              "      <td>No</td>\n",
              "      <td>8.0</td>\n",
              "      <td>26.0</td>\n",
              "      <td>Male</td>\n",
              "      <td>Child</td>\n",
              "      <td>Single/Never Married</td>\n",
              "      <td>Primary</td>\n",
              "      <td>Informally employed</td>\n",
              "    </tr>\n",
              "  </tbody>\n",
              "</table>\n",
              "</div>"
            ],
            "text/plain": [
              "  country has_a_bank_account  ...   level_of_education                type_of_job\n",
              "0   Kenya                Yes  ...            Secondary              Self employed\n",
              "1   Kenya                 No  ...  No formal education       Government Dependent\n",
              "2   Kenya                Yes  ...           Vocational              Self employed\n",
              "3   Kenya                 No  ...              Primary  Formally employed Private\n",
              "4   Kenya                 No  ...              Primary        Informally employed\n",
              "\n",
              "[5 rows x 11 columns]"
            ]
          },
          "metadata": {
            "tags": []
          },
          "execution_count": 13
        }
      ]
    },
    {
      "cell_type": "code",
      "metadata": {
        "colab": {
          "base_uri": "https://localhost:8080/"
        },
        "id": "_L9rVpfB-Xd1",
        "outputId": "399bc058-fef0-43e9-ce9d-168b1af01db0"
      },
      "source": [
        "# Determining the number of items in each column and the data type of each column\n",
        "finance_df.info()"
      ],
      "execution_count": 14,
      "outputs": [
        {
          "output_type": "stream",
          "text": [
            "<class 'pandas.core.frame.DataFrame'>\n",
            "RangeIndex: 23524 entries, 0 to 23523\n",
            "Data columns (total 11 columns):\n",
            " #   Column                  Non-Null Count  Dtype  \n",
            "---  ------                  --------------  -----  \n",
            " 0   country                 23510 non-null  object \n",
            " 1   has_a_bank_account      23488 non-null  object \n",
            " 2   type_of_location        23509 non-null  object \n",
            " 3   cell_phone_access       23513 non-null  object \n",
            " 4   household_size          23496 non-null  float64\n",
            " 5   respondent_age          23490 non-null  float64\n",
            " 6   gender_of_respondent    23490 non-null  object \n",
            " 7   relationship_with_head  23520 non-null  object \n",
            " 8   marital_status          23492 non-null  object \n",
            " 9   level_of_education      23495 non-null  object \n",
            " 10  type_of_job             23494 non-null  object \n",
            "dtypes: float64(2), object(9)\n",
            "memory usage: 2.0+ MB\n"
          ],
          "name": "stdout"
        }
      ]
    },
    {
      "cell_type": "markdown",
      "metadata": {
        "id": "yI3WoiRBDknB"
      },
      "source": [
        "### 1.6.4 Missing Values"
      ]
    },
    {
      "cell_type": "markdown",
      "metadata": {
        "id": "TKZ0ErjtB9pt"
      },
      "source": [
        "Identifying and dealing with missing values within the dataset."
      ]
    },
    {
      "cell_type": "code",
      "metadata": {
        "colab": {
          "base_uri": "https://localhost:8080/"
        },
        "id": "zzNlniLuBiSi",
        "outputId": "45a739cf-02ac-4fbf-eeb4-5536cd16a155"
      },
      "source": [
        "# Identifying the Missing Data.\n",
        "finance_df.isnull().sum()"
      ],
      "execution_count": 15,
      "outputs": [
        {
          "output_type": "execute_result",
          "data": {
            "text/plain": [
              "country                   14\n",
              "has_a_bank_account        36\n",
              "type_of_location          15\n",
              "cell_phone_access         11\n",
              "household_size            28\n",
              "respondent_age            34\n",
              "gender_of_respondent      34\n",
              "relationship_with_head     4\n",
              "marital_status            32\n",
              "level_of_education        29\n",
              "type_of_job               30\n",
              "dtype: int64"
            ]
          },
          "metadata": {
            "tags": []
          },
          "execution_count": 15
        }
      ]
    },
    {
      "cell_type": "code",
      "metadata": {
        "colab": {
          "base_uri": "https://localhost:8080/"
        },
        "id": "4iMLvnsuCj5m",
        "outputId": "e79abad3-2220-4c33-adba-60357effbe19"
      },
      "source": [
        "# Dropping any rows that have a missing or null values because they may cause inconsistencies.\n",
        "finance_df.dropna(inplace = True)\n",
        "# Checking if there are any null values.\n",
        "finance_df.isnull().sum() "
      ],
      "execution_count": 16,
      "outputs": [
        {
          "output_type": "execute_result",
          "data": {
            "text/plain": [
              "country                   0\n",
              "has_a_bank_account        0\n",
              "type_of_location          0\n",
              "cell_phone_access         0\n",
              "household_size            0\n",
              "respondent_age            0\n",
              "gender_of_respondent      0\n",
              "relationship_with_head    0\n",
              "marital_status            0\n",
              "level_of_education        0\n",
              "type_of_job               0\n",
              "dtype: int64"
            ]
          },
          "metadata": {
            "tags": []
          },
          "execution_count": 16
        }
      ]
    },
    {
      "cell_type": "markdown",
      "metadata": {
        "id": "PBCrWwmVEQGN"
      },
      "source": [
        "Identifying uniques values within the dataset for each column."
      ]
    },
    {
      "cell_type": "code",
      "metadata": {
        "colab": {
          "base_uri": "https://localhost:8080/"
        },
        "id": "9lmHjjAfER0K",
        "outputId": "587cff7d-3799-445e-ea88-df13f38c46a6"
      },
      "source": [
        "# Are there any unique values in each column entry in the dataset?\n",
        "for i in finance_df.columns:\n",
        " print(finance_df[i].unique())\n",
        " print (\"\\n\")"
      ],
      "execution_count": 17,
      "outputs": [
        {
          "output_type": "stream",
          "text": [
            "['Kenya' 'Rwanda' 'Tanzania' 'Uganda']\n",
            "\n",
            "\n",
            "['Yes' 'No']\n",
            "\n",
            "\n",
            "['Rural' 'Urban']\n",
            "\n",
            "\n",
            "['Yes' 'No']\n",
            "\n",
            "\n",
            "[ 3.  5.  8.  7.  1.  6.  4. 10.  2. 11.  9. 12. 16. 15. 13. 14. 21.  0.\n",
            " 18. 17. 20.]\n",
            "\n",
            "\n",
            "[ 24.  70.  26.  34.  32.  42.  54.  76.  40.  69.  64.  31.  38.  47.\n",
            "  27.  48.  25.  21.  18.  22.  58.  55.  62.  29.  35.  45.  67.  19.\n",
            "  80.  66.  50.  33.  28.  51.  16.  17.  30.  37.  59.  65.  46.  56.\n",
            "  52.  23.  43.  49.  44.  72.  53.  63.  39.  81.  78.  36.  20.  60.\n",
            "  95.  71.  57.  85.  68.  41.  61.  75.  86.  73.  93.  74.  88.  90.\n",
            "  77.  84.  82.  89.  79.  83.  94.  87.  92.  91.  98.  97.  96.  99.\n",
            " 100.]\n",
            "\n",
            "\n",
            "['Female' 'Male']\n",
            "\n",
            "\n",
            "['Spouse' 'Head of Household' 'Other relative' 'Child' 'Parent'\n",
            " 'Other non-relatives']\n",
            "\n",
            "\n",
            "['Married/Living together' 'Widowed' 'Single/Never Married'\n",
            " 'Divorced/Seperated' 'Dont know']\n",
            "\n",
            "\n",
            "['Secondary' 'No formal education' 'Vocational' 'Primary' 'Tertiary'\n",
            " 'Other' '6']\n",
            "\n",
            "\n",
            "['Self employed' 'Government Dependent' 'Formally employed Private'\n",
            " 'Informally employed' 'Formally employed Government'\n",
            " 'Farming and Fishing' 'Remittance Dependent' 'Other Income'\n",
            " 'Dont Know/Refuse to answer' 'No Income']\n",
            "\n",
            "\n"
          ],
          "name": "stdout"
        }
      ]
    },
    {
      "cell_type": "markdown",
      "metadata": {
        "id": "F3Epv7OiECRh"
      },
      "source": [
        "### 1.6.5 Outliers"
      ]
    },
    {
      "cell_type": "markdown",
      "metadata": {
        "id": "5Pc4Fg_tFNnu"
      },
      "source": [
        "Identifying and dealing with outliers within our dataset."
      ]
    },
    {
      "cell_type": "code",
      "metadata": {
        "colab": {
          "base_uri": "https://localhost:8080/",
          "height": 393
        },
        "id": "KwJt1logFVK6",
        "outputId": "8c960ef6-47e5-4d18-c392-37fc79f8d663"
      },
      "source": [
        "# checking for outliers \n",
        "finance_df.boxplot(figsize=(8, 6), fontsize=10)\n",
        "\n",
        "# print size of the data with outliers present\n",
        "print(finance_df.shape)"
      ],
      "execution_count": 18,
      "outputs": [
        {
          "output_type": "stream",
          "text": [
            "(23343, 11)\n"
          ],
          "name": "stdout"
        },
        {
          "output_type": "display_data",
          "data": {
            "image/png": "[encoded data removed]",
            "text/plain": [
              "<Figure size 576x432 with 1 Axes>"
            ]
          },
          "metadata": {
            "tags": [],
            "needs_background": "light"
          }
        }
      ]
    },
    {
      "cell_type": "code",
      "metadata": {
        "colab": {
          "base_uri": "https://localhost:8080/"
        },
        "id": "rgmRJmhO0e18",
        "outputId": "e25a47c0-4038-4cc9-8d33-b1e67b3981af"
      },
      "source": [
        "# Checking for outliers in the household_size column\n",
        "\n",
        "Q1 = finance_df.household_size.quantile(0.25)\n",
        "Q3 = finance_df.household_size.quantile(0.75)\n",
        "\n",
        "IQR = Q3 - Q1\n",
        "\n",
        "outliers = ((finance_df.household_size < Q1 - 1.5 * IQR) | (finance_df.household_size > Q3 + 1.5 * IQR))\n",
        "outliers.value_counts()"
      ],
      "execution_count": 19,
      "outputs": [
        {
          "output_type": "execute_result",
          "data": {
            "text/plain": [
              "False    22967\n",
              "True       376\n",
              "Name: household_size, dtype: int64"
            ]
          },
          "metadata": {
            "tags": []
          },
          "execution_count": 19
        }
      ]
    },
    {
      "cell_type": "markdown",
      "metadata": {
        "id": "3dhhs6oO01Rr"
      },
      "source": [
        "There are 376 outliers in the household size column.However, removing the outliers would result in an inconclusive result because they could still be viable submissions."
      ]
    },
    {
      "cell_type": "code",
      "metadata": {
        "colab": {
          "base_uri": "https://localhost:8080/"
        },
        "id": "4oa170Sd09GP",
        "outputId": "2d62a161-cd6f-4fae-949e-e5b1eaac1092"
      },
      "source": [
        "# Checking for outliers in the respondent age column\n",
        "\n",
        "Q1 = finance_df.respondent_age.quantile(0.25)\n",
        "Q3 = finance_df.respondent_age.quantile(0.75)\n",
        "\n",
        "IQR = Q3 - Q1\n",
        "\n",
        "outliers = ((finance_df.respondent_age < Q1 - 1.5 * IQR) | (finance_df.respondent_age > Q3 + 1.5 * IQR))\n",
        "outliers.value_counts()"
      ],
      "execution_count": 20,
      "outputs": [
        {
          "output_type": "execute_result",
          "data": {
            "text/plain": [
              "False    23104\n",
              "True       239\n",
              "Name: respondent_age, dtype: int64"
            ]
          },
          "metadata": {
            "tags": []
          },
          "execution_count": 20
        }
      ]
    },
    {
      "cell_type": "markdown",
      "metadata": {
        "id": "N9NHS1iV12DM"
      },
      "source": [
        "There are 239 outliers in the respondent age column.However, removing the outliers would result in an inconclusive result because they could still be viable submissions."
      ]
    },
    {
      "cell_type": "code",
      "metadata": {
        "id": "c-F2f7hBHPsY"
      },
      "source": [
        "# Removing outliers\n",
        "#Q1 = finance_df.quantile(0.25)\n",
        "#Q3 = finance_df.quantile(0.75)\n",
        "#IQR = Q3 - Q1\n",
        "#finance_df = finance_df[~((finance_df < (Q1 - 1.5 * IQR)) | (finance_df > (Q3 + 1.5 * IQR))).any(axis=1)]\n",
        "\n",
        "# print size of the data after removal of outliers\n",
        "#print(finance_df.shape)"
      ],
      "execution_count": 21,
      "outputs": []
    },
    {
      "cell_type": "markdown",
      "metadata": {
        "id": "E9GnvyK0Gc-S"
      },
      "source": [
        "### 1.6.6 Anomalies"
      ]
    },
    {
      "cell_type": "code",
      "metadata": {
        "id": "7APbirAvICD0"
      },
      "source": [
        "# Checking for Anomalies\n",
        "# There were anomalies within the Year column. \n",
        "# However, we removed the Year column because we determined that it would not be\n",
        "# useful for our research."
      ],
      "execution_count": 22,
      "outputs": []
    },
    {
      "cell_type": "markdown",
      "metadata": {
        "id": "ITEA6pO_K3zs"
      },
      "source": [
        "# **1.7 Exploratory Data Analysis**"
      ]
    },
    {
      "cell_type": "markdown",
      "metadata": {
        "id": "JPzElaWkLAvs"
      },
      "source": [
        "## **1.7.1 Univariate Analysis**"
      ]
    },
    {
      "cell_type": "markdown",
      "metadata": {
        "id": "0LjaCJmXH6Vu"
      },
      "source": [
        "Provides summary statistics for each field in the raw data collection (or a single variable summary).\n",
        "Here's what we'll be looking at:\n",
        "\n",
        "1.   Measure of central tendency.\n",
        "2.   Measures of Dispersion/Variability/Spread.\n",
        "3.   Visualisation of field by using pie chartsand histogram and Frequency tables.\n"
      ]
    },
    {
      "cell_type": "markdown",
      "metadata": {
        "id": "F2OrvocfInzD"
      },
      "source": [
        "####1.7.1.1 Frequency Tables"
      ]
    },
    {
      "cell_type": "code",
      "metadata": {
        "colab": {
          "base_uri": "https://localhost:8080/"
        },
        "id": "DOK6AkXlOmSp",
        "outputId": "8d74dcd8-e7b6-43e8-cb57-d35bedf19f8a"
      },
      "source": [
        "# Creating a Frequency table of column type of location categories and using the value_counts() function\n",
        "finance_df.type_of_location.value_counts()"
      ],
      "execution_count": 23,
      "outputs": [
        {
          "output_type": "execute_result",
          "data": {
            "text/plain": [
              "Rural    14264\n",
              "Urban     9079\n",
              "Name: type_of_location, dtype: int64"
            ]
          },
          "metadata": {
            "tags": []
          },
          "execution_count": 23
        }
      ]
    },
    {
      "cell_type": "markdown",
      "metadata": {
        "id": "BR-vc5PMWN5H"
      },
      "source": [
        "There were more respondents from Rural areas than Urban areas."
      ]
    },
    {
      "cell_type": "code",
      "metadata": {
        "colab": {
          "base_uri": "https://localhost:8080/"
        },
        "id": "1A1fj0JvWYBX",
        "outputId": "91c0650e-0899-4d72-f041-88a3e132a96f"
      },
      "source": [
        "# Creating a Frequency table of column cell phone access categories and using the value_counts() function\n",
        "finance_df.cell_phone_access.value_counts()"
      ],
      "execution_count": 24,
      "outputs": [
        {
          "output_type": "execute_result",
          "data": {
            "text/plain": [
              "Yes    17334\n",
              "No      6009\n",
              "Name: cell_phone_access, dtype: int64"
            ]
          },
          "metadata": {
            "tags": []
          },
          "execution_count": 24
        }
      ]
    },
    {
      "cell_type": "markdown",
      "metadata": {
        "id": "6lIsXuErXELf"
      },
      "source": [
        "Most interviewee's have access to a cell phone.\n"
      ]
    },
    {
      "cell_type": "code",
      "metadata": {
        "colab": {
          "base_uri": "https://localhost:8080/"
        },
        "id": "zAbwhiCSXLP3",
        "outputId": "e1088311-66d3-47dc-ff90-e016a677840e"
      },
      "source": [
        "# Creating a Frequency table of column relationship with head categories and using the value_counts() function\n",
        "\n",
        "finance_df.relationship_with_head.value_counts()"
      ],
      "execution_count": 25,
      "outputs": [
        {
          "output_type": "execute_result",
          "data": {
            "text/plain": [
              "Head of Household      12730\n",
              "Spouse                  6471\n",
              "Child                   2221\n",
              "Parent                  1069\n",
              "Other relative           663\n",
              "Other non-relatives      189\n",
              "Name: relationship_with_head, dtype: int64"
            ]
          },
          "metadata": {
            "tags": []
          },
          "execution_count": 25
        }
      ]
    },
    {
      "cell_type": "markdown",
      "metadata": {
        "id": "txaAf8RHXgr4"
      },
      "source": [
        "The majority of the interviewees were household heads, with a small number of non-relatives of the household head."
      ]
    },
    {
      "cell_type": "code",
      "metadata": {
        "colab": {
          "base_uri": "https://localhost:8080/"
        },
        "id": "5t8s48FZX_RK",
        "outputId": "88d074cd-03f3-4136-a97f-8cccf07dd4a7"
      },
      "source": [
        "# Creating a Frequency table of column marital status categories and using the value_counts() function\n",
        "finance_df.marital_status.value_counts()"
      ],
      "execution_count": 26,
      "outputs": [
        {
          "output_type": "execute_result",
          "data": {
            "text/plain": [
              "Married/Living together    10700\n",
              "Single/Never Married        7903\n",
              "Widowed                     2683\n",
              "Divorced/Seperated          2049\n",
              "Dont know                      8\n",
              "Name: marital_status, dtype: int64"
            ]
          },
          "metadata": {
            "tags": []
          },
          "execution_count": 26
        }
      ]
    },
    {
      "cell_type": "markdown",
      "metadata": {
        "id": "7j1GywngYP9p"
      },
      "source": [
        "The majority of the interviewees were married or cohabiting."
      ]
    },
    {
      "cell_type": "markdown",
      "metadata": {
        "id": "23DraNh_YsJ3"
      },
      "source": [
        "#### 1.7.1.2 Pie charts"
      ]
    },
    {
      "cell_type": "code",
      "metadata": {
        "colab": {
          "base_uri": "https://localhost:8080/",
          "height": 264
        },
        "id": "GOwP4eqxYw2X",
        "outputId": "bedcd502-ab74-4b48-d768-5581fb3e94fb"
      },
      "source": [
        "# Creating a pie chart that illustrates the number of people in each country that have a bank account\n",
        "\n",
        "# Filtering out the 'Yes' value from column Has a Bank account\n",
        "bank = finance_df[finance_df['has_a_bank_account']== 'Yes']\n",
        "\n",
        "explode = (0,0,0,0.1)\n",
        "p = bank.groupby('country')['has_a_bank_account'].count()\n",
        "\n",
        "labels = bank['country'].unique()\n",
        "\n",
        "plt.title('A pie chart showing the % of respondents who have a bank account per country.')\n",
        "plt.pie(p,labels=labels,explode=explode,autopct='%1.1f%%',startangle=90,shadow=True);"
      ],
      "execution_count": 27,
      "outputs": [
        {
          "output_type": "display_data",
          "data": {
            "image/png": "[encoded data removed]",
            "text/plain": [
              "<Figure size 432x288 with 1 Axes>"
            ]
          },
          "metadata": {
            "tags": []
          }
        }
      ]
    },
    {
      "cell_type": "markdown",
      "metadata": {
        "id": "pLZ3EKqdcldy"
      },
      "source": [
        "\n",
        "\n",
        "*   Kenya has the highest number of people with bank accounts. \n",
        "*   Uganda has the lowest number of people with bank accounts.\n",
        "\n",
        "\n"
      ]
    },
    {
      "cell_type": "markdown",
      "metadata": {
        "id": "mfbAk0p2jNyr"
      },
      "source": [
        "#### 1.7.1.3 Bar Charts"
      ]
    },
    {
      "cell_type": "code",
      "metadata": {
        "colab": {
          "base_uri": "https://localhost:8080/",
          "height": 375
        },
        "id": "FLfJz47eFgnq",
        "outputId": "7121ba27-3d9c-4fbc-bce9-fbdd8008cfe1"
      },
      "source": [
        "# how many individuals have or do not have bank accounts?\n",
        "# \n",
        "\n",
        "plt.figure(figsize=(10,5))\n",
        "finance_df['has_a_bank_account'].value_counts().plot(kind='bar')\n",
        "plt.ylabel('counts')\n",
        "plt.title(' Indidviduals with and without a bank account')\n",
        "plt.xlabel('Has a bank account')"
      ],
      "execution_count": 28,
      "outputs": [
        {
          "output_type": "execute_result",
          "data": {
            "text/plain": [
              "Text(0.5, 0, 'Has a bank account')"
            ]
          },
          "metadata": {
            "tags": []
          },
          "execution_count": 28
        },
        {
          "output_type": "display_data",
          "data": {
            "image/png": "[encoded data removed]",
            "text/plain": [
              "<Figure size 720x360 with 1 Axes>"
            ]
          },
          "metadata": {
            "tags": [],
            "needs_background": "light"
          }
        }
      ]
    },
    {
      "cell_type": "markdown",
      "metadata": {
        "id": "r8ms-ubnF9Rh"
      },
      "source": [
        "Majority of the respondents did not have a bank account."
      ]
    },
    {
      "cell_type": "code",
      "metadata": {
        "colab": {
          "base_uri": "https://localhost:8080/",
          "height": 459
        },
        "id": "16UIdYAVjTBj",
        "outputId": "3c994f9e-3610-4fcd-f4fa-4342ab5ae419"
      },
      "source": [
        "# Creating a bar chart that illustrates the number of respondents\n",
        "# by their level of education.\n",
        "\n",
        "plt.figure(figsize=(10,5))\n",
        "finance_df['level_of_education'].value_counts().plot(kind='bar')\n",
        "plt.ylabel('counts')\n",
        "plt.title('Number of respondents by their level of education.')\n",
        "plt.xlabel('Education level')"
      ],
      "execution_count": 29,
      "outputs": [
        {
          "output_type": "execute_result",
          "data": {
            "text/plain": [
              "Text(0.5, 0, 'Education level')"
            ]
          },
          "metadata": {
            "tags": []
          },
          "execution_count": 29
        },
        {
          "output_type": "display_data",
          "data": {
            "image/png": "[encoded data removed]",
            "text/plain": [
              "<Figure size 720x360 with 1 Axes>"
            ]
          },
          "metadata": {
            "tags": [],
            "needs_background": "light"
          }
        }
      ]
    },
    {
      "cell_type": "markdown",
      "metadata": {
        "id": "EEWMEqZ3oTH0"
      },
      "source": [
        "The majority of the responders had only completed primary school."
      ]
    },
    {
      "cell_type": "code",
      "metadata": {
        "colab": {
          "base_uri": "https://localhost:8080/",
          "height": 395
        },
        "id": "_lZ3kjriomi1",
        "outputId": "f89347d6-695a-4c8a-96d8-b4a35abba660"
      },
      "source": [
        "# Creating a bar chart that illustrates the number of respondents\n",
        "# by their Gender\n",
        "plt.figure(figsize=(10,5))\n",
        "finance_df['gender_of_respondent'].value_counts().plot(kind='bar')\n",
        "plt.ylabel('counts')\n",
        "plt.title('Number of respondents by their Gender.')\n",
        "plt.xlabel('Gender')"
      ],
      "execution_count": 30,
      "outputs": [
        {
          "output_type": "execute_result",
          "data": {
            "text/plain": [
              "Text(0.5, 0, 'Gender')"
            ]
          },
          "metadata": {
            "tags": []
          },
          "execution_count": 30
        },
        {
          "output_type": "display_data",
          "data": {
            "image/png": "[encoded data removed]",
            "text/plain": [
              "<Figure size 720x360 with 1 Axes>"
            ]
          },
          "metadata": {
            "tags": [],
            "needs_background": "light"
          }
        }
      ]
    },
    {
      "cell_type": "markdown",
      "metadata": {
        "id": "d0Ybr0boo_ik"
      },
      "source": [
        "The bar chart shows that most of the responders were Female."
      ]
    },
    {
      "cell_type": "code",
      "metadata": {
        "colab": {
          "base_uri": "https://localhost:8080/",
          "height": 518
        },
        "id": "XAzIHQUYGfwx",
        "outputId": "792b66c2-90ce-43df-910a-d3e4aa10c0c5"
      },
      "source": [
        "# Creating a bar chart that illustrates the employment status\n",
        "\n",
        "plt.figure(figsize=(10,5))\n",
        "finance_df['type_of_job'].value_counts().plot(kind='bar')\n",
        "plt.ylabel('counts')\n",
        "plt.title('Number of respondents by their Job.')\n",
        "plt.xlabel('Tpe of Job')"
      ],
      "execution_count": 31,
      "outputs": [
        {
          "output_type": "execute_result",
          "data": {
            "text/plain": [
              "Text(0.5, 0, 'Tpe of Job')"
            ]
          },
          "metadata": {
            "tags": []
          },
          "execution_count": 31
        },
        {
          "output_type": "display_data",
          "data": {
            "image/png": "[encoded data removed]",
            "text/plain": [
              "<Figure size 720x360 with 1 Axes>"
            ]
          },
          "metadata": {
            "tags": [],
            "needs_background": "light"
          }
        }
      ]
    },
    {
      "cell_type": "markdown",
      "metadata": {
        "id": "jtT-ZJRlGutu"
      },
      "source": [
        "Majority of the respondents were self-employed and few didn't know/refused to answer."
      ]
    },
    {
      "cell_type": "markdown",
      "metadata": {
        "id": "rNkREMkHqdDW"
      },
      "source": [
        "#### 1.7.1.4 Histograms"
      ]
    },
    {
      "cell_type": "code",
      "metadata": {
        "colab": {
          "base_uri": "https://localhost:8080/",
          "height": 295
        },
        "id": "rXj56Az5qiEb",
        "outputId": "36e8f8b8-07b1-48d2-8209-08dc30a7f42d"
      },
      "source": [
        "# Creating a histogram of respondents age\n",
        "age = finance_df['respondent_age']\n",
        "\n",
        "plt.hist(age, bins=10, histtype='bar', rwidth=0.9)\n",
        "\n",
        "plt.xlabel('x')\n",
        "plt.ylabel('y')\n",
        "plt.title('Histogram of Respondents age') \n",
        "plt.show()"
      ],
      "execution_count": 32,
      "outputs": [
        {
          "output_type": "display_data",
          "data": {
            "image/png": "[encoded data removed]",
            "text/plain": [
              "<Figure size 432x288 with 1 Axes>"
            ]
          },
          "metadata": {
            "tags": [],
            "needs_background": "light"
          }
        }
      ]
    },
    {
      "cell_type": "markdown",
      "metadata": {
        "id": "M7KHRKydr5TH"
      },
      "source": [
        "\n",
        "\n",
        "*   The histogram shows us that the age distribution is skewed to the right.\n",
        "This is because the tail is long to the right side.\n",
        "*   Most respondents were of the age between 20 and 40\n",
        "\n"
      ]
    },
    {
      "cell_type": "code",
      "metadata": {
        "colab": {
          "base_uri": "https://localhost:8080/",
          "height": 295
        },
        "id": "YykAtsdIsY4l",
        "outputId": "cc14bc7a-fa82-4863-82d4-f3335a5b174d"
      },
      "source": [
        "# Creating a histogram of respondents house hold size\n",
        "house = finance_df['household_size']\n",
        "\n",
        "plt.hist(house, bins=10, histtype='bar', rwidth=0.9)\n",
        "\n",
        "plt.xlabel('x')\n",
        "plt.ylabel('y')\n",
        "plt.title('Histogram of Respondents age') \n",
        "plt.show()"
      ],
      "execution_count": 33,
      "outputs": [
        {
          "output_type": "display_data",
          "data": {
            "image/png": "[encoded data removed]",
            "text/plain": [
              "<Figure size 432x288 with 1 Axes>"
            ]
          },
          "metadata": {
            "tags": [],
            "needs_background": "light"
          }
        }
      ]
    },
    {
      "cell_type": "markdown",
      "metadata": {
        "id": "6PlUXRpHsmJe"
      },
      "source": [
        "\n",
        "\n",
        "*   Because the tail is long to the right, the household size distribution is skewed to the right, as shown by the histogram.\n",
        "*   The histogram shows that most households were of size 2 to 3.\n",
        "\n"
      ]
    },
    {
      "cell_type": "markdown",
      "metadata": {
        "id": "vVUZaEpstGG3"
      },
      "source": [
        "#### 1.7.1.5 Measures of Central tendency"
      ]
    },
    {
      "cell_type": "markdown",
      "metadata": {
        "id": "BKMK6OYqtZnf"
      },
      "source": [
        "##### **Mean**"
      ]
    },
    {
      "cell_type": "code",
      "metadata": {
        "colab": {
          "base_uri": "https://localhost:8080/"
        },
        "id": "QbKdklOjtk3h",
        "outputId": "0a4fd200-a88a-4134-d981-13578d7483c6"
      },
      "source": [
        " # Finding the mean of the respondens' age\n",
        " finance_df['respondent_age'].mean()"
      ],
      "execution_count": 34,
      "outputs": [
        {
          "output_type": "execute_result",
          "data": {
            "text/plain": [
              "38.80550914621085"
            ]
          },
          "metadata": {
            "tags": []
          },
          "execution_count": 34
        }
      ]
    },
    {
      "cell_type": "markdown",
      "metadata": {
        "id": "Y7uotuCxuCjv"
      },
      "source": [
        "The mean for the interviwees was 39."
      ]
    },
    {
      "cell_type": "code",
      "metadata": {
        "colab": {
          "base_uri": "https://localhost:8080/"
        },
        "id": "UJg4F5wDuLEW",
        "outputId": "a025ce31-8fa1-42b4-f68f-872d57b3452f"
      },
      "source": [
        " # Finding the mean of the respondents'house hold size\n",
        " finance_df['household_size'].mean()"
      ],
      "execution_count": 35,
      "outputs": [
        {
          "output_type": "execute_result",
          "data": {
            "text/plain": [
              "3.6886432763569377"
            ]
          },
          "metadata": {
            "tags": []
          },
          "execution_count": 35
        }
      ]
    },
    {
      "cell_type": "markdown",
      "metadata": {
        "id": "dzppuRSruUjo"
      },
      "source": [
        "The mean for the respondents house hold size was 3.6"
      ]
    },
    {
      "cell_type": "markdown",
      "metadata": {
        "id": "dvMscxvxudJu"
      },
      "source": [
        "##### **Mode**"
      ]
    },
    {
      "cell_type": "code",
      "metadata": {
        "colab": {
          "base_uri": "https://localhost:8080/"
        },
        "id": "7QiMycE3ue4_",
        "outputId": "4c981e4a-954f-435d-cce8-b93f896643eb"
      },
      "source": [
        "# Finding the mode of the respondens' age\n",
        "finance_df['respondent_age'].mode()"
      ],
      "execution_count": 36,
      "outputs": [
        {
          "output_type": "execute_result",
          "data": {
            "text/plain": [
              "0    30.0\n",
              "dtype: float64"
            ]
          },
          "metadata": {
            "tags": []
          },
          "execution_count": 36
        }
      ]
    },
    {
      "cell_type": "markdown",
      "metadata": {
        "id": "USNH3MPMu3wC"
      },
      "source": [
        "30 is the most common age."
      ]
    },
    {
      "cell_type": "code",
      "metadata": {
        "colab": {
          "base_uri": "https://localhost:8080/"
        },
        "id": "sPBKcSSyul2f",
        "outputId": "4c7a1e6b-27d6-4a50-eb16-98c2aba9419d"
      },
      "source": [
        " # Finding the mode of the respondents'house hold size\n",
        "finance_df['household_size'].mode()"
      ],
      "execution_count": 37,
      "outputs": [
        {
          "output_type": "execute_result",
          "data": {
            "text/plain": [
              "0    2.0\n",
              "dtype: float64"
            ]
          },
          "metadata": {
            "tags": []
          },
          "execution_count": 37
        }
      ]
    },
    {
      "cell_type": "markdown",
      "metadata": {
        "id": "KdEC6LbOu_uZ"
      },
      "source": [
        "2 is the most common household size"
      ]
    },
    {
      "cell_type": "markdown",
      "metadata": {
        "id": "O8BLs1zUvNDC"
      },
      "source": [
        "##### **Median**"
      ]
    },
    {
      "cell_type": "code",
      "metadata": {
        "colab": {
          "base_uri": "https://localhost:8080/"
        },
        "id": "Rfa3jE6NvPqI",
        "outputId": "60a41c9f-63a5-4ca5-f19a-4026ba54541c"
      },
      "source": [
        "# Finding the median of the respondens' age\n",
        "finance_df['respondent_age'].median()"
      ],
      "execution_count": 38,
      "outputs": [
        {
          "output_type": "execute_result",
          "data": {
            "text/plain": [
              "35.0"
            ]
          },
          "metadata": {
            "tags": []
          },
          "execution_count": 38
        }
      ]
    },
    {
      "cell_type": "markdown",
      "metadata": {
        "id": "Zm4Lm9w2vewo"
      },
      "source": [
        "The middle observation for the age of the respondents was 36,when the data was arranged in descending/ascending order."
      ]
    },
    {
      "cell_type": "code",
      "metadata": {
        "colab": {
          "base_uri": "https://localhost:8080/"
        },
        "id": "O1rBKuZXvP7f",
        "outputId": "f7261e22-70fa-4900-f1e3-7f60ad313e3c"
      },
      "source": [
        "# Finding the median of the respondents'house hold size\n",
        "finance_df['household_size'].median()"
      ],
      "execution_count": 39,
      "outputs": [
        {
          "output_type": "execute_result",
          "data": {
            "text/plain": [
              "3.0"
            ]
          },
          "metadata": {
            "tags": []
          },
          "execution_count": 39
        }
      ]
    },
    {
      "cell_type": "markdown",
      "metadata": {
        "id": "PZGLfsexvt33"
      },
      "source": [
        "The middle observation for the household size of the respondents was 3,when the data was arranged in descending/ascending order."
      ]
    },
    {
      "cell_type": "code",
      "metadata": {
        "id": "1yy3JUy6-4uV"
      },
      "source": [
        ""
      ],
      "execution_count": 39,
      "outputs": []
    },
    {
      "cell_type": "markdown",
      "metadata": {
        "id": "NI4XlwvMwdjv"
      },
      "source": [
        "#### 1.7.1.6 Measures of dispersion"
      ]
    },
    {
      "cell_type": "markdown",
      "metadata": {
        "id": "w0pJh2-pwlHi"
      },
      "source": [
        "##### **Range**"
      ]
    },
    {
      "cell_type": "code",
      "metadata": {
        "colab": {
          "base_uri": "https://localhost:8080/"
        },
        "id": "OI4UALd3xKBY",
        "outputId": "136cdf79-8a36-4556-b662-d813f552b024"
      },
      "source": [
        "# Range of the age\n",
        "age_max = finance_df['respondent_age'].max()\n",
        "age_min = finance_df['respondent_age'].min()\n",
        "\n",
        "age_range = age_max - age_min\n",
        "\n",
        "print(age_max,age_min)\n",
        "print(age_range)"
      ],
      "execution_count": 40,
      "outputs": [
        {
          "output_type": "stream",
          "text": [
            "100.0 16.0\n",
            "84.0\n"
          ],
          "name": "stdout"
        }
      ]
    },
    {
      "cell_type": "code",
      "metadata": {
        "colab": {
          "base_uri": "https://localhost:8080/"
        },
        "id": "n1lstfhlxGVo",
        "outputId": "ef697366-fdae-4426-b2b3-77342100aa78"
      },
      "source": [
        "# Range of the household_size\n",
        "size_max = finance_df.household_size.max()\n",
        "size_min = finance_df.household_size.min()\n",
        "\n",
        "size_range = size_max - size_min\n",
        "\n",
        "print(size_max,size_min)\n",
        "print(size_range)"
      ],
      "execution_count": 41,
      "outputs": [
        {
          "output_type": "stream",
          "text": [
            "21.0 0.0\n",
            "21.0\n"
          ],
          "name": "stdout"
        }
      ]
    },
    {
      "cell_type": "markdown",
      "metadata": {
        "id": "tRnNcn22xHHi"
      },
      "source": [
        "##### **Quantile**"
      ]
    },
    {
      "cell_type": "code",
      "metadata": {
        "colab": {
          "base_uri": "https://localhost:8080/"
        },
        "id": "f5MarcFFxK43",
        "outputId": "fb7c0c72-f433-4f15-846e-04d7233e5036"
      },
      "source": [
        "# Quantiles of the age\n",
        "\n",
        "finance_df['respondent_age'].quantile([0.25,0.5,0.75])"
      ],
      "execution_count": 42,
      "outputs": [
        {
          "output_type": "execute_result",
          "data": {
            "text/plain": [
              "0.25    26.0\n",
              "0.50    35.0\n",
              "0.75    49.0\n",
              "Name: respondent_age, dtype: float64"
            ]
          },
          "metadata": {
            "tags": []
          },
          "execution_count": 42
        }
      ]
    },
    {
      "cell_type": "code",
      "metadata": {
        "colab": {
          "base_uri": "https://localhost:8080/"
        },
        "id": "m2ZvF4iKxLXQ",
        "outputId": "33d2a6e0-c7d2-4fd0-f01b-be3bef1ecb10"
      },
      "source": [
        "# Quantiles of the household_size\n",
        "\n",
        "finance_df[\"household_size\"].quantile([0.25,0.5,0.75])"
      ],
      "execution_count": 43,
      "outputs": [
        {
          "output_type": "execute_result",
          "data": {
            "text/plain": [
              "0.25    2.0\n",
              "0.50    3.0\n",
              "0.75    5.0\n",
              "Name: household_size, dtype: float64"
            ]
          },
          "metadata": {
            "tags": []
          },
          "execution_count": 43
        }
      ]
    },
    {
      "cell_type": "markdown",
      "metadata": {
        "id": "Vinfe5YwxLvh"
      },
      "source": [
        "##### **Standard Deviation**"
      ]
    },
    {
      "cell_type": "code",
      "metadata": {
        "id": "H9b-f2MQ1BNd"
      },
      "source": [
        "# Average distance between each obseravtion from the mean. \n",
        "# I.e., how data is spread out from mean. \n",
        "# A low std dev indicates that the data points tend to be close to the mean of the data set, \n",
        "# A high std dev indicates that the data points are spread out over a wider range of values."
      ],
      "execution_count": 44,
      "outputs": []
    },
    {
      "cell_type": "code",
      "metadata": {
        "colab": {
          "base_uri": "https://localhost:8080/"
        },
        "id": "jhl_TCf1xP1f",
        "outputId": "7b519b23-0bdf-4a55-b32d-bf240c68b065"
      },
      "source": [
        "# Standard Deviation of the age\n",
        "\n",
        "finance_df.respondent_age.std()"
      ],
      "execution_count": 45,
      "outputs": [
        {
          "output_type": "execute_result",
          "data": {
            "text/plain": [
              "16.51980349804178"
            ]
          },
          "metadata": {
            "tags": []
          },
          "execution_count": 45
        }
      ]
    },
    {
      "cell_type": "code",
      "metadata": {
        "colab": {
          "base_uri": "https://localhost:8080/"
        },
        "id": "YREUmo86xPp7",
        "outputId": "2e75576a-6621-49f3-a67d-6b627674f533"
      },
      "source": [
        "# Standard Deviation of the household_size\n",
        "\n",
        "finance_df.household_size.std()"
      ],
      "execution_count": 46,
      "outputs": [
        {
          "output_type": "execute_result",
          "data": {
            "text/plain": [
              "2.2811835250351495"
            ]
          },
          "metadata": {
            "tags": []
          },
          "execution_count": 46
        }
      ]
    },
    {
      "cell_type": "markdown",
      "metadata": {
        "id": "QeK81XoUxQoA"
      },
      "source": [
        "##### **Variance**"
      ]
    },
    {
      "cell_type": "code",
      "metadata": {
        "id": "VUEFmZr3xUNA"
      },
      "source": [
        "# square of average distance between each observation and mean. \n",
        "# I.e. square of standard deviation. \n",
        "# It is a measure of how dispersed or spread out the set is, \n",
        "\n",
        "# If a data set has a variance of zero, then every member of it is the same. \n",
        "# If the variance is high, especially as a ratio to the mean,\n",
        "# then the data have some very large dis-similarities amongst its members."
      ],
      "execution_count": 47,
      "outputs": []
    },
    {
      "cell_type": "code",
      "metadata": {
        "colab": {
          "base_uri": "https://localhost:8080/"
        },
        "id": "bZWYymzD7gZk",
        "outputId": "2dda470b-bb22-4360-8b31-b3cab0090c8b"
      },
      "source": [
        "# Variance of the age\n",
        "\n",
        "finance_df.respondent_age.var()"
      ],
      "execution_count": 48,
      "outputs": [
        {
          "output_type": "execute_result",
          "data": {
            "text/plain": [
              "272.90390761391353"
            ]
          },
          "metadata": {
            "tags": []
          },
          "execution_count": 48
        }
      ]
    },
    {
      "cell_type": "code",
      "metadata": {
        "colab": {
          "base_uri": "https://localhost:8080/"
        },
        "id": "sbt-Bpv1xUho",
        "outputId": "ca1794db-0068-4f64-b077-2daecd75bd47"
      },
      "source": [
        "# Variance of the household_size\n",
        "\n",
        "finance_df.household_size.var()"
      ],
      "execution_count": 49,
      "outputs": [
        {
          "output_type": "execute_result",
          "data": {
            "text/plain": [
              "5.20379827489179"
            ]
          },
          "metadata": {
            "tags": []
          },
          "execution_count": 49
        }
      ]
    },
    {
      "cell_type": "markdown",
      "metadata": {
        "id": "vjCmGqXdxVc3"
      },
      "source": [
        "##### **Skewness**"
      ]
    },
    {
      "cell_type": "code",
      "metadata": {
        "id": "sKffpkDGxbX7"
      },
      "source": [
        "# A measure of the asymmetry of the probability distribution of a real-valued \n",
        "# random variable about its mean. \n",
        "# In a perfect normal distribution, the tails on either side of the curve are \n",
        "# exact mirror images of each other.\n",
        "# A negative value means the distribution is negatively skewed.....or...skewed to the left\n",
        "# A positive value means the distribution is positively skewed.....or...skewed to the right"
      ],
      "execution_count": 50,
      "outputs": []
    },
    {
      "cell_type": "code",
      "metadata": {
        "colab": {
          "base_uri": "https://localhost:8080/"
        },
        "id": "BvFkIv77xbJq",
        "outputId": "325ed7ad-52a0-45e6-b135-61c86bb5e693"
      },
      "source": [
        "# Skewness of the age\n",
        "\n",
        "finance_df.respondent_age.skew()\n",
        "\n"
      ],
      "execution_count": 51,
      "outputs": [
        {
          "output_type": "execute_result",
          "data": {
            "text/plain": [
              "0.840661747532081"
            ]
          },
          "metadata": {
            "tags": []
          },
          "execution_count": 51
        }
      ]
    },
    {
      "cell_type": "markdown",
      "metadata": {
        "id": "vPh2JO_T9Tod"
      },
      "source": [
        "The respondent age distribution is skewed to the right since its skewness is a positive value.This was also seen in the histogram above on visualizations: long right tail."
      ]
    },
    {
      "cell_type": "code",
      "metadata": {
        "colab": {
          "base_uri": "https://localhost:8080/"
        },
        "id": "gc-kJsAp8pAE",
        "outputId": "f757f0b4-70b0-45ce-c98d-86062256e5ed"
      },
      "source": [
        "# Skewness of the household_size\n",
        "\n",
        "finance_df.household_size.skew()\n"
      ],
      "execution_count": 52,
      "outputs": [
        {
          "output_type": "execute_result",
          "data": {
            "text/plain": [
              "0.9741086837897069"
            ]
          },
          "metadata": {
            "tags": []
          },
          "execution_count": 52
        }
      ]
    },
    {
      "cell_type": "markdown",
      "metadata": {
        "id": "VUaIBz6q9ZtV"
      },
      "source": [
        "The household size distribution is skewed to the right since its skewness is a positive value.This was also seen in the histogram above on visualizations: long right tail."
      ]
    },
    {
      "cell_type": "markdown",
      "metadata": {
        "id": "1Mi1DrqxxeD0"
      },
      "source": [
        "##### **Kurtosis**"
      ]
    },
    {
      "cell_type": "code",
      "metadata": {
        "id": "uFieZ8fexhFW"
      },
      "source": [
        "# A measure of whether the data are heavy-tailed (profusion of outliers)\n",
        "# or light-tailed (lack of outliers) relative to a normal distribution.\n",
        "\n",
        "# If the kurtosis is close to 0, then a normal distribution is often assumed.\n",
        "# These is called mesokurtic distributions. \n",
        "\n",
        "# If the kurtosis is less than zero, then the distribution has light tails .\n",
        "# These is called a platykurtic distribution.  \n",
        "\n",
        "# If the kurtosis is greater than zero, then the distribution has heavier tails.\n",
        "# This is called a leptokurtic distribution."
      ],
      "execution_count": 53,
      "outputs": []
    },
    {
      "cell_type": "code",
      "metadata": {
        "colab": {
          "base_uri": "https://localhost:8080/"
        },
        "id": "B7kBDaPBxgb_",
        "outputId": "7db1d20f-9d2d-43bb-ad0d-7cb3784ef11a"
      },
      "source": [
        "# Kurtosis of the age\n",
        "\n",
        "finance_df.respondent_age.kurt()"
      ],
      "execution_count": 54,
      "outputs": [
        {
          "output_type": "execute_result",
          "data": {
            "text/plain": [
              "0.09844652254807196"
            ]
          },
          "metadata": {
            "tags": []
          },
          "execution_count": 54
        }
      ]
    },
    {
      "cell_type": "code",
      "metadata": {
        "colab": {
          "base_uri": "https://localhost:8080/"
        },
        "id": "688YpzxB-Rb0",
        "outputId": "54adc29f-257a-42a2-b445-d147fe8c8fc4"
      },
      "source": [
        "# Kurtosis of the household_size\n",
        "\n",
        "finance_df.household_size.kurt()"
      ],
      "execution_count": 55,
      "outputs": [
        {
          "output_type": "execute_result",
          "data": {
            "text/plain": [
              "1.1538690689335573"
            ]
          },
          "metadata": {
            "tags": []
          },
          "execution_count": 55
        }
      ]
    },
    {
      "cell_type": "markdown",
      "metadata": {
        "id": "c74iPMNALQZH"
      },
      "source": [
        "## **1.7.2 Bivariate Analysis**"
      ]
    },
    {
      "cell_type": "markdown",
      "metadata": {
        "id": "P0htBC8pOM81"
      },
      "source": [
        "##### **1.7.2.1 Numerical & Numerical Analysis**\n"
      ]
    },
    {
      "cell_type": "code",
      "metadata": {
        "colab": {
          "base_uri": "https://localhost:8080/",
          "height": 298
        },
        "id": "80jL0xrqOLVy",
        "outputId": "08f6a8f5-2496-4e78-96dc-0201aa1ed7e1"
      },
      "source": [
        "# A scatter plot comparing the household size and the age of respondent.\n",
        "finance_df.plot(x = 'household_size', y = 'respondent_age', kind = 'scatter')"
      ],
      "execution_count": 56,
      "outputs": [
        {
          "output_type": "execute_result",
          "data": {
            "text/plain": [
              "<matplotlib.axes._subplots.AxesSubplot at 0x7fe5c870fe10>"
            ]
          },
          "metadata": {
            "tags": []
          },
          "execution_count": 56
        },
        {
          "output_type": "display_data",
          "data": {
            "image/png": "[encoded data removed]",
            "text/plain": [
              "<Figure size 432x288 with 1 Axes>"
            ]
          },
          "metadata": {
            "tags": [],
            "needs_background": "light"
          }
        }
      ]
    },
    {
      "cell_type": "markdown",
      "metadata": {
        "id": "5TRHhxIfQ3Zy"
      },
      "source": [
        "There is no correlation between age and household size in the dataset as the points are scattered throughout the graph."
      ]
    },
    {
      "cell_type": "markdown",
      "metadata": {
        "id": "xdS6foYyxFjB"
      },
      "source": [
        "#### **1.7.2.2 Categorical & Numerical**"
      ]
    },
    {
      "cell_type": "code",
      "metadata": {
        "id": "TStJZj6EH8Nj",
        "colab": {
          "base_uri": "https://localhost:8080/",
          "height": 347
        },
        "outputId": "96b094f6-403d-48ce-fc67-6f2f284b524b"
      },
      "source": [
        "# Analysis by country\n",
        "# Creating a frequency table for the countries and bank account \n",
        "\n",
        "# plot chart for the frequencies represented in the crosstab dataframe \n",
        "finance_df.groupby('country')['has_a_bank_account'].value_counts().unstack().plot.bar(stacked=True)\n",
        "# labelling axes and formatting chart\n",
        "plt.title(\"Bank account possession by country\")\n",
        "plt.ylabel(\"Distribution across the population\")"
      ],
      "execution_count": 57,
      "outputs": [
        {
          "output_type": "execute_result",
          "data": {
            "text/plain": [
              "Text(0, 0.5, 'Distribution across the population')"
            ]
          },
          "metadata": {
            "tags": []
          },
          "execution_count": 57
        },
        {
          "output_type": "display_data",
          "data": {
            "image/png": "[encoded data removed]",
            "text/plain": [
              "<Figure size 432x288 with 1 Axes>"
            ]
          },
          "metadata": {
            "tags": [],
            "needs_background": "light"
          }
        }
      ]
    },
    {
      "cell_type": "code",
      "metadata": {
        "colab": {
          "base_uri": "https://localhost:8080/",
          "height": 347
        },
        "id": "EjSVggaaKoNj",
        "outputId": "448f3c8b-949e-432c-c88b-53e0546f7240"
      },
      "source": [
        "# Accessibility to cell phones by country\n",
        "# plot chart for the frequencies represented in the crosstab dataframe \n",
        "finance_df.groupby('country')['cell_phone_access'].value_counts().unstack().plot.bar(stacked=True)\n",
        "# labelling axes and formatting chart\n",
        "plt.title(\"Cell phone possession by country\")\n",
        "plt.ylabel(\"Distribution across the population\")"
      ],
      "execution_count": 58,
      "outputs": [
        {
          "output_type": "execute_result",
          "data": {
            "text/plain": [
              "Text(0, 0.5, 'Distribution across the population')"
            ]
          },
          "metadata": {
            "tags": []
          },
          "execution_count": 58
        },
        {
          "output_type": "display_data",
          "data": {
            "image/png": "[encoded data removed]",
            "text/plain": [
              "<Figure size 432x288 with 1 Axes>"
            ]
          },
          "metadata": {
            "tags": [],
            "needs_background": "light"
          }
        }
      ]
    },
    {
      "cell_type": "code",
      "metadata": {
        "colab": {
          "base_uri": "https://localhost:8080/",
          "height": 623
        },
        "id": "FDZhnCXdLSOM",
        "outputId": "f9e78fad-c707-4e68-a59e-c26c49e500bc"
      },
      "source": [
        "# Relation of respondents education level to bank account possession\n",
        "ebank = pd.crosstab(index=finance_df['level_of_education'], columns=finance_df['has_a_bank_account'])\n",
        "# plot chart\n",
        "ebank.plot(kind=\"bar\", figsize=(8,8))\n",
        "# format & label chart\n",
        "plt.title(\"Relation of respondents education level to bank account possession\")\n",
        "plt.ylabel(\"Distribution across the population\")"
      ],
      "execution_count": 59,
      "outputs": [
        {
          "output_type": "execute_result",
          "data": {
            "text/plain": [
              "Text(0, 0.5, 'Distribution across the population')"
            ]
          },
          "metadata": {
            "tags": []
          },
          "execution_count": 59
        },
        {
          "output_type": "display_data",
          "data": {
            "image/png": "[encoded data removed]",
            "text/plain": [
              "<Figure size 576x576 with 1 Axes>"
            ]
          },
          "metadata": {
            "tags": [],
            "needs_background": "light"
          }
        }
      ]
    },
    {
      "cell_type": "code",
      "metadata": {
        "colab": {
          "base_uri": "https://localhost:8080/",
          "height": 538
        },
        "id": "fU5p1ASDL_il",
        "outputId": "1f789116-68e2-42fb-e81e-c4be4d9bb440"
      },
      "source": [
        "# The impact of having a cell phone on having a bank account\n",
        "cbank = pd.crosstab(index=finance_df['cell_phone_access'], columns=finance_df['has_a_bank_account'])\n",
        "# plotting chart\n",
        "cbank.plot(kind=\"bar\", figsize=(8,8))\n",
        "# labelling chart\n",
        "plt.title(\"The impact of having a cell phone on having a bank account\")\n",
        "plt.ylabel(\"Distribution across the population\")"
      ],
      "execution_count": 60,
      "outputs": [
        {
          "output_type": "execute_result",
          "data": {
            "text/plain": [
              "Text(0, 0.5, 'Distribution across the population')"
            ]
          },
          "metadata": {
            "tags": []
          },
          "execution_count": 60
        },
        {
          "output_type": "display_data",
          "data": {
            "image/png": "[encoded data removed]",
            "text/plain": [
              "<Figure size 576x576 with 1 Axes>"
            ]
          },
          "metadata": {
            "tags": [],
            "needs_background": "light"
          }
        }
      ]
    },
    {
      "cell_type": "markdown",
      "metadata": {
        "id": "NMXW8HJqQwji"
      },
      "source": [
        "##### **1.7.2.3 Correlation**"
      ]
    },
    {
      "cell_type": "code",
      "metadata": {
        "colab": {
          "base_uri": "https://localhost:8080/"
        },
        "id": "xYsuQTycQ1m6",
        "outputId": "02506d47-8f22-4ac9-c1d5-c9725e7615b7"
      },
      "source": [
        "# Calculating the Pearson Correlation Co-efficient\n",
        "coeff = finance_df['household_size'].corr(finance_df['respondent_age'])\n",
        "print(coeff)"
      ],
      "execution_count": 61,
      "outputs": [
        {
          "output_type": "stream",
          "text": [
            "-0.11970919507762415\n"
          ],
          "name": "stdout"
        }
      ]
    },
    {
      "cell_type": "code",
      "metadata": {
        "colab": {
          "base_uri": "https://localhost:8080/",
          "height": 112
        },
        "id": "wH9aMiO-R1Iy",
        "outputId": "7caecbf4-2378-48e8-82f6-aba141ceb677"
      },
      "source": [
        "# Calculating the pearson coefficient of the entire dataframe\n",
        "finance_df.corr()"
      ],
      "execution_count": 62,
      "outputs": [
        {
          "output_type": "execute_result",
          "data": {
            "text/html": [
              "<div>\n",
              "<style scoped>\n",
              "    .dataframe tbody tr th:only-of-type {\n",
              "        vertical-align: middle;\n",
              "    }\n",
              "\n",
              "    .dataframe tbody tr th {\n",
              "        vertical-align: top;\n",
              "    }\n",
              "\n",
              "    .dataframe thead th {\n",
              "        text-align: right;\n",
              "    }\n",
              "</style>\n",
              "<table border=\"1\" class=\"dataframe\">\n",
              "  <thead>\n",
              "    <tr style=\"text-align: right;\">\n",
              "      <th></th>\n",
              "      <th>household_size</th>\n",
              "      <th>respondent_age</th>\n",
              "    </tr>\n",
              "  </thead>\n",
              "  <tbody>\n",
              "    <tr>\n",
              "      <th>household_size</th>\n",
              "      <td>1.000000</td>\n",
              "      <td>-0.119709</td>\n",
              "    </tr>\n",
              "    <tr>\n",
              "      <th>respondent_age</th>\n",
              "      <td>-0.119709</td>\n",
              "      <td>1.000000</td>\n",
              "    </tr>\n",
              "  </tbody>\n",
              "</table>\n",
              "</div>"
            ],
            "text/plain": [
              "                household_size  respondent_age\n",
              "household_size        1.000000       -0.119709\n",
              "respondent_age       -0.119709        1.000000"
            ]
          },
          "metadata": {
            "tags": []
          },
          "execution_count": 62
        }
      ]
    },
    {
      "cell_type": "markdown",
      "metadata": {
        "id": "UNJtHXvRRWJ9"
      },
      "source": [
        "Because the correlation coefficient between Age and Household is -0.12, Age and Household have a very weak negative correlation."
      ]
    },
    {
      "cell_type": "markdown",
      "metadata": {
        "id": "O1xayBKTLTgq"
      },
      "source": [
        "## **1.7.3 Multivariate Analysis**"
      ]
    },
    {
      "cell_type": "markdown",
      "metadata": {
        "id": "GHAE2qZzYtVn"
      },
      "source": [
        "##### **1.7.3.1 Principal Component Analysis (PCA)**"
      ]
    },
    {
      "cell_type": "code",
      "metadata": {
        "id": "K8tfgUSVfp_X"
      },
      "source": [
        "# To analyse multiple categorical varibales we can turn then into dummies (zeros and ones)\n",
        "\n",
        "# Pandas has a function which can turn a categorical variable into a series of zeros and ones, \n",
        "\n",
        "# This makes them a lot easier to quantify and compare.\n"
      ],
      "execution_count": 63,
      "outputs": []
    },
    {
      "cell_type": "code",
      "metadata": {
        "colab": {
          "base_uri": "https://localhost:8080/",
          "height": 260
        },
        "id": "vOP6lombftER",
        "outputId": "8e3770a8-e19d-4e05-abc2-692776020b34"
      },
      "source": [
        "# Converting the categories into dummy variables with ones and zeros\n",
        "\n",
        "dummy = pd.get_dummies(finance_df[['country', 'type_of_location', 'cell_phone_access', 'gender_of_respondent','relationship_with_head', 'marital_status', 'level_of_education', 'type_of_job']])\n",
        "dummy.head()"
      ],
      "execution_count": 64,
      "outputs": [
        {
          "output_type": "execute_result",
          "data": {
            "text/html": [
              "<div>\n",
              "<style scoped>\n",
              "    .dataframe tbody tr th:only-of-type {\n",
              "        vertical-align: middle;\n",
              "    }\n",
              "\n",
              "    .dataframe tbody tr th {\n",
              "        vertical-align: top;\n",
              "    }\n",
              "\n",
              "    .dataframe thead th {\n",
              "        text-align: right;\n",
              "    }\n",
              "</style>\n",
              "<table border=\"1\" class=\"dataframe\">\n",
              "  <thead>\n",
              "    <tr style=\"text-align: right;\">\n",
              "      <th></th>\n",
              "      <th>country_Kenya</th>\n",
              "      <th>country_Rwanda</th>\n",
              "      <th>country_Tanzania</th>\n",
              "      <th>country_Uganda</th>\n",
              "      <th>type_of_location_Rural</th>\n",
              "      <th>type_of_location_Urban</th>\n",
              "      <th>cell_phone_access_No</th>\n",
              "      <th>cell_phone_access_Yes</th>\n",
              "      <th>gender_of_respondent_Female</th>\n",
              "      <th>gender_of_respondent_Male</th>\n",
              "      <th>relationship_with_head_Child</th>\n",
              "      <th>relationship_with_head_Head of Household</th>\n",
              "      <th>relationship_with_head_Other non-relatives</th>\n",
              "      <th>relationship_with_head_Other relative</th>\n",
              "      <th>relationship_with_head_Parent</th>\n",
              "      <th>relationship_with_head_Spouse</th>\n",
              "      <th>marital_status_Divorced/Seperated</th>\n",
              "      <th>marital_status_Dont know</th>\n",
              "      <th>marital_status_Married/Living together</th>\n",
              "      <th>marital_status_Single/Never Married</th>\n",
              "      <th>marital_status_Widowed</th>\n",
              "      <th>level_of_education_6</th>\n",
              "      <th>level_of_education_No formal education</th>\n",
              "      <th>level_of_education_Other</th>\n",
              "      <th>level_of_education_Primary</th>\n",
              "      <th>level_of_education_Secondary</th>\n",
              "      <th>level_of_education_Tertiary</th>\n",
              "      <th>level_of_education_Vocational</th>\n",
              "      <th>type_of_job_Dont Know/Refuse to answer</th>\n",
              "      <th>type_of_job_Farming and Fishing</th>\n",
              "      <th>type_of_job_Formally employed Government</th>\n",
              "      <th>type_of_job_Formally employed Private</th>\n",
              "      <th>type_of_job_Government Dependent</th>\n",
              "      <th>type_of_job_Informally employed</th>\n",
              "      <th>type_of_job_No Income</th>\n",
              "      <th>type_of_job_Other Income</th>\n",
              "      <th>type_of_job_Remittance Dependent</th>\n",
              "      <th>type_of_job_Self employed</th>\n",
              "    </tr>\n",
              "  </thead>\n",
              "  <tbody>\n",
              "    <tr>\n",
              "      <th>0</th>\n",
              "      <td>1</td>\n",
              "      <td>0</td>\n",
              "      <td>0</td>\n",
              "      <td>0</td>\n",
              "      <td>1</td>\n",
              "      <td>0</td>\n",
              "      <td>0</td>\n",
              "      <td>1</td>\n",
              "      <td>1</td>\n",
              "      <td>0</td>\n",
              "      <td>0</td>\n",
              "      <td>0</td>\n",
              "      <td>0</td>\n",
              "      <td>0</td>\n",
              "      <td>0</td>\n",
              "      <td>1</td>\n",
              "      <td>0</td>\n",
              "      <td>0</td>\n",
              "      <td>1</td>\n",
              "      <td>0</td>\n",
              "      <td>0</td>\n",
              "      <td>0</td>\n",
              "      <td>0</td>\n",
              "      <td>0</td>\n",
              "      <td>0</td>\n",
              "      <td>1</td>\n",
              "      <td>0</td>\n",
              "      <td>0</td>\n",
              "      <td>0</td>\n",
              "      <td>0</td>\n",
              "      <td>0</td>\n",
              "      <td>0</td>\n",
              "      <td>0</td>\n",
              "      <td>0</td>\n",
              "      <td>0</td>\n",
              "      <td>0</td>\n",
              "      <td>0</td>\n",
              "      <td>1</td>\n",
              "    </tr>\n",
              "    <tr>\n",
              "      <th>1</th>\n",
              "      <td>1</td>\n",
              "      <td>0</td>\n",
              "      <td>0</td>\n",
              "      <td>0</td>\n",
              "      <td>1</td>\n",
              "      <td>0</td>\n",
              "      <td>1</td>\n",
              "      <td>0</td>\n",
              "      <td>1</td>\n",
              "      <td>0</td>\n",
              "      <td>0</td>\n",
              "      <td>1</td>\n",
              "      <td>0</td>\n",
              "      <td>0</td>\n",
              "      <td>0</td>\n",
              "      <td>0</td>\n",
              "      <td>0</td>\n",
              "      <td>0</td>\n",
              "      <td>0</td>\n",
              "      <td>0</td>\n",
              "      <td>1</td>\n",
              "      <td>0</td>\n",
              "      <td>1</td>\n",
              "      <td>0</td>\n",
              "      <td>0</td>\n",
              "      <td>0</td>\n",
              "      <td>0</td>\n",
              "      <td>0</td>\n",
              "      <td>0</td>\n",
              "      <td>0</td>\n",
              "      <td>0</td>\n",
              "      <td>0</td>\n",
              "      <td>1</td>\n",
              "      <td>0</td>\n",
              "      <td>0</td>\n",
              "      <td>0</td>\n",
              "      <td>0</td>\n",
              "      <td>0</td>\n",
              "    </tr>\n",
              "    <tr>\n",
              "      <th>2</th>\n",
              "      <td>1</td>\n",
              "      <td>0</td>\n",
              "      <td>0</td>\n",
              "      <td>0</td>\n",
              "      <td>0</td>\n",
              "      <td>1</td>\n",
              "      <td>0</td>\n",
              "      <td>1</td>\n",
              "      <td>0</td>\n",
              "      <td>1</td>\n",
              "      <td>0</td>\n",
              "      <td>0</td>\n",
              "      <td>0</td>\n",
              "      <td>1</td>\n",
              "      <td>0</td>\n",
              "      <td>0</td>\n",
              "      <td>0</td>\n",
              "      <td>0</td>\n",
              "      <td>0</td>\n",
              "      <td>1</td>\n",
              "      <td>0</td>\n",
              "      <td>0</td>\n",
              "      <td>0</td>\n",
              "      <td>0</td>\n",
              "      <td>0</td>\n",
              "      <td>0</td>\n",
              "      <td>0</td>\n",
              "      <td>1</td>\n",
              "      <td>0</td>\n",
              "      <td>0</td>\n",
              "      <td>0</td>\n",
              "      <td>0</td>\n",
              "      <td>0</td>\n",
              "      <td>0</td>\n",
              "      <td>0</td>\n",
              "      <td>0</td>\n",
              "      <td>0</td>\n",
              "      <td>1</td>\n",
              "    </tr>\n",
              "    <tr>\n",
              "      <th>3</th>\n",
              "      <td>1</td>\n",
              "      <td>0</td>\n",
              "      <td>0</td>\n",
              "      <td>0</td>\n",
              "      <td>1</td>\n",
              "      <td>0</td>\n",
              "      <td>0</td>\n",
              "      <td>1</td>\n",
              "      <td>1</td>\n",
              "      <td>0</td>\n",
              "      <td>0</td>\n",
              "      <td>1</td>\n",
              "      <td>0</td>\n",
              "      <td>0</td>\n",
              "      <td>0</td>\n",
              "      <td>0</td>\n",
              "      <td>0</td>\n",
              "      <td>0</td>\n",
              "      <td>1</td>\n",
              "      <td>0</td>\n",
              "      <td>0</td>\n",
              "      <td>0</td>\n",
              "      <td>0</td>\n",
              "      <td>0</td>\n",
              "      <td>1</td>\n",
              "      <td>0</td>\n",
              "      <td>0</td>\n",
              "      <td>0</td>\n",
              "      <td>0</td>\n",
              "      <td>0</td>\n",
              "      <td>0</td>\n",
              "      <td>1</td>\n",
              "      <td>0</td>\n",
              "      <td>0</td>\n",
              "      <td>0</td>\n",
              "      <td>0</td>\n",
              "      <td>0</td>\n",
              "      <td>0</td>\n",
              "    </tr>\n",
              "    <tr>\n",
              "      <th>4</th>\n",
              "      <td>1</td>\n",
              "      <td>0</td>\n",
              "      <td>0</td>\n",
              "      <td>0</td>\n",
              "      <td>0</td>\n",
              "      <td>1</td>\n",
              "      <td>1</td>\n",
              "      <td>0</td>\n",
              "      <td>0</td>\n",
              "      <td>1</td>\n",
              "      <td>1</td>\n",
              "      <td>0</td>\n",
              "      <td>0</td>\n",
              "      <td>0</td>\n",
              "      <td>0</td>\n",
              "      <td>0</td>\n",
              "      <td>0</td>\n",
              "      <td>0</td>\n",
              "      <td>0</td>\n",
              "      <td>1</td>\n",
              "      <td>0</td>\n",
              "      <td>0</td>\n",
              "      <td>0</td>\n",
              "      <td>0</td>\n",
              "      <td>1</td>\n",
              "      <td>0</td>\n",
              "      <td>0</td>\n",
              "      <td>0</td>\n",
              "      <td>0</td>\n",
              "      <td>0</td>\n",
              "      <td>0</td>\n",
              "      <td>0</td>\n",
              "      <td>0</td>\n",
              "      <td>1</td>\n",
              "      <td>0</td>\n",
              "      <td>0</td>\n",
              "      <td>0</td>\n",
              "      <td>0</td>\n",
              "    </tr>\n",
              "  </tbody>\n",
              "</table>\n",
              "</div>"
            ],
            "text/plain": [
              "   country_Kenya  ...  type_of_job_Self employed\n",
              "0              1  ...                          1\n",
              "1              1  ...                          0\n",
              "2              1  ...                          1\n",
              "3              1  ...                          0\n",
              "4              1  ...                          0\n",
              "\n",
              "[5 rows x 38 columns]"
            ]
          },
          "metadata": {
            "tags": []
          },
          "execution_count": 64
        }
      ]
    },
    {
      "cell_type": "code",
      "metadata": {
        "id": "3vQCGqbuYwHF"
      },
      "source": [
        "# PCA, is a statistical technique to convert high dimensional data to low dimensional data by \n",
        "# selecting the most important features that capture maximum information about the dataset.\n",
        "\n",
        "# The features are selected on the basis of variance that they cause in the output. \n",
        "# The feature that causes highest variance is the first principal component. \n",
        "# The feature that is responsible for second highest variance is considered \n",
        "# the second principal component, and so on.\n",
        "# Note: principal components do not have any correlation with each other.\n",
        "\n",
        "# PCA can only be applied to numeric data. \n",
        "# Therefore, categorical features are required to be converted into numerical \n",
        "# features before PCA can be applied. (already done in the dummies above)"
      ],
      "execution_count": 65,
      "outputs": []
    },
    {
      "cell_type": "code",
      "metadata": {
        "colab": {
          "base_uri": "https://localhost:8080/",
          "height": 364
        },
        "id": "2MLWo4Phh7fg",
        "outputId": "0049bc23-a167-4fab-9acd-731661c0239f"
      },
      "source": [
        "# Since we’ve created a whole new dataframe, \n",
        "# in order to compare it to our original dataframe,\n",
        "# we’re going to need to either merge or concatenate them to work with them properly.\n",
        "\n",
        "# The dummy variables will be on the right side of our dataframe \n",
        "# As they are columns, I concatenate them on axis=1.\n",
        "\n",
        "# concatenating \n",
        "\n",
        "finance_df1 = pd.concat([finance_df, dummy], axis = 1)\n",
        "finance_df1.head()"
      ],
      "execution_count": 66,
      "outputs": [
        {
          "output_type": "execute_result",
          "data": {
            "text/html": [
              "<div>\n",
              "<style scoped>\n",
              "    .dataframe tbody tr th:only-of-type {\n",
              "        vertical-align: middle;\n",
              "    }\n",
              "\n",
              "    .dataframe tbody tr th {\n",
              "        vertical-align: top;\n",
              "    }\n",
              "\n",
              "    .dataframe thead th {\n",
              "        text-align: right;\n",
              "    }\n",
              "</style>\n",
              "<table border=\"1\" class=\"dataframe\">\n",
              "  <thead>\n",
              "    <tr style=\"text-align: right;\">\n",
              "      <th></th>\n",
              "      <th>country</th>\n",
              "      <th>has_a_bank_account</th>\n",
              "      <th>type_of_location</th>\n",
              "      <th>cell_phone_access</th>\n",
              "      <th>household_size</th>\n",
              "      <th>respondent_age</th>\n",
              "      <th>gender_of_respondent</th>\n",
              "      <th>relationship_with_head</th>\n",
              "      <th>marital_status</th>\n",
              "      <th>level_of_education</th>\n",
              "      <th>type_of_job</th>\n",
              "      <th>country_Kenya</th>\n",
              "      <th>country_Rwanda</th>\n",
              "      <th>country_Tanzania</th>\n",
              "      <th>country_Uganda</th>\n",
              "      <th>type_of_location_Rural</th>\n",
              "      <th>type_of_location_Urban</th>\n",
              "      <th>cell_phone_access_No</th>\n",
              "      <th>cell_phone_access_Yes</th>\n",
              "      <th>gender_of_respondent_Female</th>\n",
              "      <th>gender_of_respondent_Male</th>\n",
              "      <th>relationship_with_head_Child</th>\n",
              "      <th>relationship_with_head_Head of Household</th>\n",
              "      <th>relationship_with_head_Other non-relatives</th>\n",
              "      <th>relationship_with_head_Other relative</th>\n",
              "      <th>relationship_with_head_Parent</th>\n",
              "      <th>relationship_with_head_Spouse</th>\n",
              "      <th>marital_status_Divorced/Seperated</th>\n",
              "      <th>marital_status_Dont know</th>\n",
              "      <th>marital_status_Married/Living together</th>\n",
              "      <th>marital_status_Single/Never Married</th>\n",
              "      <th>marital_status_Widowed</th>\n",
              "      <th>level_of_education_6</th>\n",
              "      <th>level_of_education_No formal education</th>\n",
              "      <th>level_of_education_Other</th>\n",
              "      <th>level_of_education_Primary</th>\n",
              "      <th>level_of_education_Secondary</th>\n",
              "      <th>level_of_education_Tertiary</th>\n",
              "      <th>level_of_education_Vocational</th>\n",
              "      <th>type_of_job_Dont Know/Refuse to answer</th>\n",
              "      <th>type_of_job_Farming and Fishing</th>\n",
              "      <th>type_of_job_Formally employed Government</th>\n",
              "      <th>type_of_job_Formally employed Private</th>\n",
              "      <th>type_of_job_Government Dependent</th>\n",
              "      <th>type_of_job_Informally employed</th>\n",
              "      <th>type_of_job_No Income</th>\n",
              "      <th>type_of_job_Other Income</th>\n",
              "      <th>type_of_job_Remittance Dependent</th>\n",
              "      <th>type_of_job_Self employed</th>\n",
              "    </tr>\n",
              "  </thead>\n",
              "  <tbody>\n",
              "    <tr>\n",
              "      <th>0</th>\n",
              "      <td>Kenya</td>\n",
              "      <td>Yes</td>\n",
              "      <td>Rural</td>\n",
              "      <td>Yes</td>\n",
              "      <td>3.0</td>\n",
              "      <td>24.0</td>\n",
              "      <td>Female</td>\n",
              "      <td>Spouse</td>\n",
              "      <td>Married/Living together</td>\n",
              "      <td>Secondary</td>\n",
              "      <td>Self employed</td>\n",
              "      <td>1</td>\n",
              "      <td>0</td>\n",
              "      <td>0</td>\n",
              "      <td>0</td>\n",
              "      <td>1</td>\n",
              "      <td>0</td>\n",
              "      <td>0</td>\n",
              "      <td>1</td>\n",
              "      <td>1</td>\n",
              "      <td>0</td>\n",
              "      <td>0</td>\n",
              "      <td>0</td>\n",
              "      <td>0</td>\n",
              "      <td>0</td>\n",
              "      <td>0</td>\n",
              "      <td>1</td>\n",
              "      <td>0</td>\n",
              "      <td>0</td>\n",
              "      <td>1</td>\n",
              "      <td>0</td>\n",
              "      <td>0</td>\n",
              "      <td>0</td>\n",
              "      <td>0</td>\n",
              "      <td>0</td>\n",
              "      <td>0</td>\n",
              "      <td>1</td>\n",
              "      <td>0</td>\n",
              "      <td>0</td>\n",
              "      <td>0</td>\n",
              "      <td>0</td>\n",
              "      <td>0</td>\n",
              "      <td>0</td>\n",
              "      <td>0</td>\n",
              "      <td>0</td>\n",
              "      <td>0</td>\n",
              "      <td>0</td>\n",
              "      <td>0</td>\n",
              "      <td>1</td>\n",
              "    </tr>\n",
              "    <tr>\n",
              "      <th>1</th>\n",
              "      <td>Kenya</td>\n",
              "      <td>No</td>\n",
              "      <td>Rural</td>\n",
              "      <td>No</td>\n",
              "      <td>5.0</td>\n",
              "      <td>70.0</td>\n",
              "      <td>Female</td>\n",
              "      <td>Head of Household</td>\n",
              "      <td>Widowed</td>\n",
              "      <td>No formal education</td>\n",
              "      <td>Government Dependent</td>\n",
              "      <td>1</td>\n",
              "      <td>0</td>\n",
              "      <td>0</td>\n",
              "      <td>0</td>\n",
              "      <td>1</td>\n",
              "      <td>0</td>\n",
              "      <td>1</td>\n",
              "      <td>0</td>\n",
              "      <td>1</td>\n",
              "      <td>0</td>\n",
              "      <td>0</td>\n",
              "      <td>1</td>\n",
              "      <td>0</td>\n",
              "      <td>0</td>\n",
              "      <td>0</td>\n",
              "      <td>0</td>\n",
              "      <td>0</td>\n",
              "      <td>0</td>\n",
              "      <td>0</td>\n",
              "      <td>0</td>\n",
              "      <td>1</td>\n",
              "      <td>0</td>\n",
              "      <td>1</td>\n",
              "      <td>0</td>\n",
              "      <td>0</td>\n",
              "      <td>0</td>\n",
              "      <td>0</td>\n",
              "      <td>0</td>\n",
              "      <td>0</td>\n",
              "      <td>0</td>\n",
              "      <td>0</td>\n",
              "      <td>0</td>\n",
              "      <td>1</td>\n",
              "      <td>0</td>\n",
              "      <td>0</td>\n",
              "      <td>0</td>\n",
              "      <td>0</td>\n",
              "      <td>0</td>\n",
              "    </tr>\n",
              "    <tr>\n",
              "      <th>2</th>\n",
              "      <td>Kenya</td>\n",
              "      <td>Yes</td>\n",
              "      <td>Urban</td>\n",
              "      <td>Yes</td>\n",
              "      <td>5.0</td>\n",
              "      <td>26.0</td>\n",
              "      <td>Male</td>\n",
              "      <td>Other relative</td>\n",
              "      <td>Single/Never Married</td>\n",
              "      <td>Vocational</td>\n",
              "      <td>Self employed</td>\n",
              "      <td>1</td>\n",
              "      <td>0</td>\n",
              "      <td>0</td>\n",
              "      <td>0</td>\n",
              "      <td>0</td>\n",
              "      <td>1</td>\n",
              "      <td>0</td>\n",
              "      <td>1</td>\n",
              "      <td>0</td>\n",
              "      <td>1</td>\n",
              "      <td>0</td>\n",
              "      <td>0</td>\n",
              "      <td>0</td>\n",
              "      <td>1</td>\n",
              "      <td>0</td>\n",
              "      <td>0</td>\n",
              "      <td>0</td>\n",
              "      <td>0</td>\n",
              "      <td>0</td>\n",
              "      <td>1</td>\n",
              "      <td>0</td>\n",
              "      <td>0</td>\n",
              "      <td>0</td>\n",
              "      <td>0</td>\n",
              "      <td>0</td>\n",
              "      <td>0</td>\n",
              "      <td>0</td>\n",
              "      <td>1</td>\n",
              "      <td>0</td>\n",
              "      <td>0</td>\n",
              "      <td>0</td>\n",
              "      <td>0</td>\n",
              "      <td>0</td>\n",
              "      <td>0</td>\n",
              "      <td>0</td>\n",
              "      <td>0</td>\n",
              "      <td>0</td>\n",
              "      <td>1</td>\n",
              "    </tr>\n",
              "    <tr>\n",
              "      <th>3</th>\n",
              "      <td>Kenya</td>\n",
              "      <td>No</td>\n",
              "      <td>Rural</td>\n",
              "      <td>Yes</td>\n",
              "      <td>5.0</td>\n",
              "      <td>34.0</td>\n",
              "      <td>Female</td>\n",
              "      <td>Head of Household</td>\n",
              "      <td>Married/Living together</td>\n",
              "      <td>Primary</td>\n",
              "      <td>Formally employed Private</td>\n",
              "      <td>1</td>\n",
              "      <td>0</td>\n",
              "      <td>0</td>\n",
              "      <td>0</td>\n",
              "      <td>1</td>\n",
              "      <td>0</td>\n",
              "      <td>0</td>\n",
              "      <td>1</td>\n",
              "      <td>1</td>\n",
              "      <td>0</td>\n",
              "      <td>0</td>\n",
              "      <td>1</td>\n",
              "      <td>0</td>\n",
              "      <td>0</td>\n",
              "      <td>0</td>\n",
              "      <td>0</td>\n",
              "      <td>0</td>\n",
              "      <td>0</td>\n",
              "      <td>1</td>\n",
              "      <td>0</td>\n",
              "      <td>0</td>\n",
              "      <td>0</td>\n",
              "      <td>0</td>\n",
              "      <td>0</td>\n",
              "      <td>1</td>\n",
              "      <td>0</td>\n",
              "      <td>0</td>\n",
              "      <td>0</td>\n",
              "      <td>0</td>\n",
              "      <td>0</td>\n",
              "      <td>0</td>\n",
              "      <td>1</td>\n",
              "      <td>0</td>\n",
              "      <td>0</td>\n",
              "      <td>0</td>\n",
              "      <td>0</td>\n",
              "      <td>0</td>\n",
              "      <td>0</td>\n",
              "    </tr>\n",
              "    <tr>\n",
              "      <th>4</th>\n",
              "      <td>Kenya</td>\n",
              "      <td>No</td>\n",
              "      <td>Urban</td>\n",
              "      <td>No</td>\n",
              "      <td>8.0</td>\n",
              "      <td>26.0</td>\n",
              "      <td>Male</td>\n",
              "      <td>Child</td>\n",
              "      <td>Single/Never Married</td>\n",
              "      <td>Primary</td>\n",
              "      <td>Informally employed</td>\n",
              "      <td>1</td>\n",
              "      <td>0</td>\n",
              "      <td>0</td>\n",
              "      <td>0</td>\n",
              "      <td>0</td>\n",
              "      <td>1</td>\n",
              "      <td>1</td>\n",
              "      <td>0</td>\n",
              "      <td>0</td>\n",
              "      <td>1</td>\n",
              "      <td>1</td>\n",
              "      <td>0</td>\n",
              "      <td>0</td>\n",
              "      <td>0</td>\n",
              "      <td>0</td>\n",
              "      <td>0</td>\n",
              "      <td>0</td>\n",
              "      <td>0</td>\n",
              "      <td>0</td>\n",
              "      <td>1</td>\n",
              "      <td>0</td>\n",
              "      <td>0</td>\n",
              "      <td>0</td>\n",
              "      <td>0</td>\n",
              "      <td>1</td>\n",
              "      <td>0</td>\n",
              "      <td>0</td>\n",
              "      <td>0</td>\n",
              "      <td>0</td>\n",
              "      <td>0</td>\n",
              "      <td>0</td>\n",
              "      <td>0</td>\n",
              "      <td>0</td>\n",
              "      <td>1</td>\n",
              "      <td>0</td>\n",
              "      <td>0</td>\n",
              "      <td>0</td>\n",
              "      <td>0</td>\n",
              "    </tr>\n",
              "  </tbody>\n",
              "</table>\n",
              "</div>"
            ],
            "text/plain": [
              "  country  ... type_of_job_Self employed\n",
              "0   Kenya  ...                         1\n",
              "1   Kenya  ...                         0\n",
              "2   Kenya  ...                         1\n",
              "3   Kenya  ...                         0\n",
              "4   Kenya  ...                         0\n",
              "\n",
              "[5 rows x 49 columns]"
            ]
          },
          "metadata": {
            "tags": []
          },
          "execution_count": 66
        }
      ]
    },
    {
      "cell_type": "code",
      "metadata": {
        "id": "c7105E7qleuq"
      },
      "source": [
        "# Preprocessing steps\n",
        "\n",
        "# Step 1\n",
        "# The first preprocessing step is to divide the dataset into;\n",
        "# a feature set: X, and corresponding label: y.\n",
        "\n",
        "x= finance_df1.drop(columns = ['country','has_a_bank_account',\t'type_of_location',\t'cell_phone_access',\t'household_size',\t'respondent_age',\t'gender_of_respondent',\t'relationship_with_head',\t'marital_status',\t'level_of_education' ,\t'type_of_job'], axis = 1)\n",
        "y = finance_df1['has_a_bank_account']"
      ],
      "execution_count": 67,
      "outputs": []
    },
    {
      "cell_type": "code",
      "metadata": {
        "id": "zObv3pTkmMNi"
      },
      "source": [
        "# Step 2\n",
        "# Splitting the dataset into the Training set and Test set\n",
        "\n",
        "from sklearn.model_selection import train_test_split\n",
        "\n",
        "x_train, x_test, y_train, y_test = train_test_split(x, y, test_size = 0.2, random_state = 0)"
      ],
      "execution_count": 68,
      "outputs": []
    },
    {
      "cell_type": "code",
      "metadata": {
        "id": "9mIGOZq4mfqh"
      },
      "source": [
        "# Step 3: Normalization\n",
        "# As mentioned earlier, PCA performs best with a normalized feature set(x). \n",
        "# We will perform standard scalar normalization to normalize our feature set. \n",
        "from sklearn.preprocessing import StandardScaler\n",
        "\n",
        "sc = StandardScaler()\n",
        "x_train = sc.fit_transform(x_train)\n",
        "x_test = sc.fit_transform(x_test)"
      ],
      "execution_count": 69,
      "outputs": []
    },
    {
      "cell_type": "code",
      "metadata": {
        "id": "sXRZojVAnDB-"
      },
      "source": [
        "# Step 4: Applying PCA\n",
        "# Performing PCA using Python's Scikit-Learn library. \n",
        "\n",
        "# PCA depends only upon the feature set and not the label data. \n",
        "# PCA can be considered as an unsupervised machine learning technique.\n",
        "\n",
        "# Performing PCA using Scikit-Learn is a two-step process:\n",
        "# Initialize the PCA class by passing the number of components to the constructor.\n",
        "# Call the fit and then transform methods by passing the feature set to these methods.\n",
        "\n",
        "# The transform method returns the specified number of principal components.\n",
        "\n",
        "# In the code below, we create a PCA object named pca. \n",
        "# We did not specify the number of components in the constructor. \n",
        "# Hence, all the features in the feature set will be returned for both the training and test sets.\n",
        "# \n",
        "\n",
        "from sklearn.decomposition import PCA\n",
        "\n",
        "pca = PCA()\n",
        "x_train = pca.fit_transform(x_train)\n",
        "x_test = pca.fit_transform(x_test)"
      ],
      "execution_count": 70,
      "outputs": []
    },
    {
      "cell_type": "code",
      "metadata": {
        "colab": {
          "base_uri": "https://localhost:8080/"
        },
        "id": "SzMNpNS3oswx",
        "outputId": "259f9308-cfc0-4edd-9a82-887ff2f8a6ec"
      },
      "source": [
        "# Step 5: Explained Variance Ratio\n",
        "# The PCA class contains explained_variance_ratio_ which returns the variance \n",
        "# caused by each of the principal components. \n",
        "\n",
        "# We execute the following line of code to find the \"explained variance ratio\".\n",
        "# \n",
        "explained_variance = pca.explained_variance_ratio_\n",
        "explained_variance"
      ],
      "execution_count": 71,
      "outputs": [
        {
          "output_type": "execute_result",
          "data": {
            "text/plain": [
              "array([1.01571182e-01, 7.75016466e-02, 6.29607676e-02, 5.48358686e-02,\n",
              "       5.09218780e-02, 4.51259628e-02, 4.04936493e-02, 3.82667911e-02,\n",
              "       3.52636305e-02, 3.28846437e-02, 3.27418083e-02, 2.89861835e-02,\n",
              "       2.85930991e-02, 2.72665192e-02, 2.68467760e-02, 2.65986653e-02,\n",
              "       2.64985298e-02, 2.61296878e-02, 2.58245262e-02, 2.57552674e-02,\n",
              "       2.56176971e-02, 2.46075591e-02, 2.35296509e-02, 2.15080575e-02,\n",
              "       2.08755158e-02, 1.78688451e-02, 1.61089933e-02, 1.33201491e-02,\n",
              "       1.16279955e-02, 9.86845381e-03, 3.09345243e-31, 6.43162246e-32,\n",
              "       3.99697722e-32, 3.47884327e-32, 2.89006584e-32, 2.70184475e-32,\n",
              "       1.00363377e-32, 8.12123320e-33])"
            ]
          },
          "metadata": {
            "tags": []
          },
          "execution_count": 71
        }
      ]
    },
    {
      "cell_type": "code",
      "metadata": {
        "id": "phMkO3gBtLkx"
      },
      "source": [
        "# step 6:\n",
        "# Using the 27 Principal Components to train our algorithm\n",
        "\n",
        "from sklearn.decomposition import PCA\n",
        "\n",
        "pca = PCA(n_components=27)\n",
        "x_train = pca.fit_transform(x_train)\n",
        "x_test = pca.transform(x_test)"
      ],
      "execution_count": 72,
      "outputs": []
    },
    {
      "cell_type": "code",
      "metadata": {
        "id": "rGObmX32uVl9"
      },
      "source": [
        "# Step 7: Training and Making Predictions\n",
        "# In this case we'll use random forest classification for making the predictions.\n",
        "from sklearn.ensemble import RandomForestClassifier\n",
        "\n",
        "classifier = RandomForestClassifier(max_depth=2, random_state=0)\n",
        "classifier.fit(x_train, y_train)\n",
        "\n",
        "# Predicting the Test set results\n",
        "y_pred = classifier.predict(x_test)"
      ],
      "execution_count": 73,
      "outputs": []
    },
    {
      "cell_type": "code",
      "metadata": {
        "colab": {
          "base_uri": "https://localhost:8080/"
        },
        "id": "mkM6nNJYvAO9",
        "outputId": "d9617a84-8081-4b00-b687-48a113e2ca56"
      },
      "source": [
        "# Step 8: Performance Evaluation\n",
        "# \n",
        "from sklearn.metrics import confusion_matrix\n",
        "from sklearn.metrics import accuracy_score\n",
        "\n",
        "cm = confusion_matrix(y_test, y_pred)\n",
        "print(cm)\n",
        "print('Accuracy' , accuracy_score(y_test, y_pred))"
      ],
      "execution_count": 74,
      "outputs": [
        {
          "output_type": "stream",
          "text": [
            "[[4007    1]\n",
            " [ 661    0]]\n",
            "Accuracy 0.8582137502677233\n"
          ],
          "name": "stdout"
        }
      ]
    },
    {
      "cell_type": "markdown",
      "metadata": {
        "id": "ZwsGdN6gvc78"
      },
      "source": [
        "From the output we see that with 27 features, the random forest algorithm is able to correctly predict 3904 out of 4546 instances, resulting in 85.82% accuracy."
      ]
    },
    {
      "cell_type": "markdown",
      "metadata": {
        "id": "uhgRrom17ury"
      },
      "source": [
        "##### **1.7.3.2 Discriminant Analysis(LDA)**"
      ]
    },
    {
      "cell_type": "code",
      "metadata": {
        "id": "01y-JKfM74kJ"
      },
      "source": [
        "# It is a simple and powerful linear transformation. \n",
        "# I t is most commonly used as dimensionality reduction technique in the pre-processing step \n",
        "# for machine learning applications. \n",
        "\n",
        "# The goal of linear discriminant analysis is to project a dataset onto a lower-dimensional\n",
        "# space with good class-separability in order avoid overfitting and reduce computational costs.\n"
      ],
      "execution_count": 75,
      "outputs": []
    },
    {
      "cell_type": "code",
      "metadata": {
        "id": "I2RbkJM9jvMX"
      },
      "source": [
        "# Step 1:\n",
        "# First step is to divide dataset into features and corresponding labels, \n",
        "# then divide the resultant dataset into training and test sets. \n",
        "X = finance_df1.iloc[:, 11:].values\n",
        "y = finance_df1.iloc[:, 1].values"
      ],
      "execution_count": 76,
      "outputs": []
    },
    {
      "cell_type": "code",
      "metadata": {
        "colab": {
          "base_uri": "https://localhost:8080/"
        },
        "id": "QIM4iTOAtBwV",
        "outputId": "97504a5a-28a1-483a-8b91-972487dd0efa"
      },
      "source": [
        "X"
      ],
      "execution_count": 77,
      "outputs": [
        {
          "output_type": "execute_result",
          "data": {
            "text/plain": [
              "array([[1, 0, 0, ..., 0, 0, 1],\n",
              "       [1, 0, 0, ..., 0, 0, 0],\n",
              "       [1, 0, 0, ..., 0, 0, 1],\n",
              "       ...,\n",
              "       [0, 0, 0, ..., 1, 0, 0],\n",
              "       [0, 0, 0, ..., 0, 0, 1],\n",
              "       [0, 0, 0, ..., 0, 0, 0]], dtype=uint8)"
            ]
          },
          "metadata": {
            "tags": []
          },
          "execution_count": 77
        }
      ]
    },
    {
      "cell_type": "code",
      "metadata": {
        "colab": {
          "base_uri": "https://localhost:8080/"
        },
        "id": "CAH3xv6VW7D2",
        "outputId": "0e353662-7c5a-49f1-bd69-cb151b841dd9"
      },
      "source": [
        "y"
      ],
      "execution_count": 78,
      "outputs": [
        {
          "output_type": "execute_result",
          "data": {
            "text/plain": [
              "array(['Yes', 'No', 'Yes', ..., 'No', 'No', 'No'], dtype=object)"
            ]
          },
          "metadata": {
            "tags": []
          },
          "execution_count": 78
        }
      ]
    },
    {
      "cell_type": "code",
      "metadata": {
        "id": "JXxRNCyKrZ4I"
      },
      "source": [
        "# Step 2: Dividing data into training and test sets\n",
        "#\n",
        "from sklearn.model_selection import train_test_split\n",
        "X_train, X_test, y_train, y_test = train_test_split(X, y, test_size=0.2, random_state=0)"
      ],
      "execution_count": 79,
      "outputs": []
    },
    {
      "cell_type": "code",
      "metadata": {
        "id": "qUCETjz1rtir"
      },
      "source": [
        "# Step 3: Feature scaling\n",
        "# Performing feature scaling. We execute the following code to do so:\n",
        "# \n",
        "from sklearn.preprocessing import StandardScaler\n",
        "sc = StandardScaler()\n",
        "X_train = sc.fit_transform(X_train)\n",
        "X_test = sc.transform(X_test)"
      ],
      "execution_count": 80,
      "outputs": []
    },
    {
      "cell_type": "code",
      "metadata": {
        "colab": {
          "base_uri": "https://localhost:8080/"
        },
        "id": "G9cNFFi6XRgv",
        "outputId": "3436e821-0917-4303-eaba-e314c351f07a"
      },
      "source": [
        "# Step 4: Peforming LDA\n",
        "# The LinearDiscriminantAnalysis class of the sklearn.discriminant_analysis \n",
        "# library can be used to Perform LDA. \n",
        "#\n",
        "from sklearn.discriminant_analysis import LinearDiscriminantAnalysis as LDA\n",
        "lda = LDA(n_components=27)\n",
        "X_train = lda.fit_transform(X_train, y_train)\n",
        "X_test = lda.transform(X_test)\n",
        "\n",
        "# The n_components parameter of the LDA, refers to the number of linear discriminates \n",
        "# that we want to retrieve. \n",
        "# We fit and transform methods to retrieve the linear discriminants.\n",
        "# Incase of LDA, the transform method takes two parameters: the z_train and the s_train. \n",
        "# This reflects the fact that LDA takes the output class labels into account while\n",
        "# selecting the linear discriminants."
      ],
      "execution_count": 81,
      "outputs": [
        {
          "output_type": "stream",
          "text": [
            "/usr/local/lib/python3.7/dist-packages/sklearn/discriminant_analysis.py:463: ChangedBehaviorWarning: n_components cannot be larger than min(n_features, n_classes - 1). Using min(n_features, n_classes - 1) = min(38, 2 - 1) = 1 components.\n",
            "  ChangedBehaviorWarning)\n",
            "/usr/local/lib/python3.7/dist-packages/sklearn/discriminant_analysis.py:469: FutureWarning: In version 0.23, setting n_components > min(n_features, n_classes - 1) will raise a ValueError. You should set n_components to None (default), or a value smaller or equal to min(n_features, n_classes - 1).\n",
            "  warnings.warn(future_msg, FutureWarning)\n"
          ],
          "name": "stderr"
        }
      ]
    },
    {
      "cell_type": "code",
      "metadata": {
        "id": "4gkr2lEfXpjX"
      },
      "source": [
        "# Step 5: Training and Making Predictions\n",
        "# We will use the random forest classifier to evaluate the performance\n",
        "# \n",
        "\n",
        "from sklearn.ensemble import RandomForestClassifier\n",
        "\n",
        "classifier = RandomForestClassifier(max_depth=2, random_state=0)\n",
        "classifier.fit(X_train, y_train)\n",
        "y_pred = classifier.predict(X_test)"
      ],
      "execution_count": 82,
      "outputs": []
    },
    {
      "cell_type": "code",
      "metadata": {
        "colab": {
          "base_uri": "https://localhost:8080/"
        },
        "id": "CIBV9gb3ZCp4",
        "outputId": "7d408c67-0832-4e03-88ee-2738ecc8f8e2"
      },
      "source": [
        "# Step 6: Evaluating the Performance\n",
        "# Evaluating performance of the algorithm \n",
        "# with the help of a confusion matrix and find the accuracy of the prediction.\n",
        "# \n",
        "\n",
        "from sklearn.metrics import confusion_matrix\n",
        "from sklearn.metrics import accuracy_score\n",
        "\n",
        "cm = confusion_matrix(y_test, y_pred)\n",
        "print(cm)\n",
        "print('Accuracy' + str(accuracy_score(y_test, y_pred)))\n",
        "# We can see that with one linear discriminant, the algorithm achieved an accuracy of 88.31%, \n",
        "# which is slightly greater than the accuracy achieved with one principal component, which was 85.82%."
      ],
      "execution_count": 83,
      "outputs": [
        {
          "output_type": "stream",
          "text": [
            "[[3955   53]\n",
            " [ 493  168]]\n",
            "Accuracy0.8830584707646177\n"
          ],
          "name": "stdout"
        }
      ]
    },
    {
      "cell_type": "markdown",
      "metadata": {
        "id": "UAeEh_DDCKm8"
      },
      "source": [
        "# 1.8 Implementing the solution"
      ]
    },
    {
      "cell_type": "markdown",
      "metadata": {
        "id": "2iV955LYDLFg"
      },
      "source": [
        "**Following a univariate analysis, it was discovered that:**\n",
        "\n",
        "•\tA huge population of the respondents in the four countries did not have or use a bank account.\n",
        "•\tMost individuals live in rural areas\n",
        "\n",
        "•\tMost individuals had access to a cell phone.\n",
        "\n",
        "•\tThe most popular family/household size is 2\n",
        "\n",
        "•\tMost respondents were of the age between 20 and 40\n",
        "\n",
        "•\tThe mean of the ages of all respondents was 39.\n",
        "\n",
        "•\tA large population of the respondents were female.\n",
        "\n",
        "•\tThe majority of the interviewees were household heads, with a small number of non-relatives of the household head.\n",
        "\n",
        "•\tMost individuals in the population were married and the next most highest were single individuals.\n",
        "\n",
        "•\tKenya has the highest number of people with bank accounts.\n",
        "\n",
        "•\tUganda has the lowest number of people with bank accounts.\n",
        "\n",
        "•\tMost respondents had only studied upto primary level of education. Very few had studied upto the tertiary level.\n",
        "\n",
        "•\tA huge number of the respondent population were self-employed\n"
      ]
    },
    {
      "cell_type": "markdown",
      "metadata": {
        "id": "d-udgkGoHq-P"
      },
      "source": [
        "**Following a Bivariate analysis, it was discovered that:**\n",
        "\n",
        "•\tRwanda recorded a huge number of individuals without a bank account. Kenya however, recorded a relatively high number of individuals possessing a bank account.\n",
        "\n",
        "•\tMost of those who had access to cell phones had a bank account or use one.\n",
        "\n",
        "•\tThere is no correlation between age and household size in the dataset as the points are scattered throughout the graph.\n"
      ]
    },
    {
      "cell_type": "markdown",
      "metadata": {
        "id": "EfqUnAj4B9tn"
      },
      "source": [
        "# 1.9 Challenge the solution"
      ]
    },
    {
      "cell_type": "markdown",
      "metadata": {
        "id": "vY8mvhAtbeVS"
      },
      "source": [
        "We can see that with one linear discriminant, the algorithm achieved an accuracy of 88.31%, \n",
        "which is slightly greater than the accuracy achieved with one principal component, which was 85.82%.\n",
        "\n",
        "As a result, using LDA reduction techniques to conduct our study was a somewhat superior option."
      ]
    }
  ]
}